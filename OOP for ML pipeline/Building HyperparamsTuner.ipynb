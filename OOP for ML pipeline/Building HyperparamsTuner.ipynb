{
 "cells": [
  {
   "cell_type": "markdown",
   "metadata": {},
   "source": [
    "## Hyperparams Tuner\n",
    "\n",
    "We can call this class to accomplish hyperparams tuning and return the best_params. This class can be used either independently, or as one of the tasks we conduct in the inner loop of nested cross-alidation. The structure should be consistent with the [FeatureSelector](https://github.com/MenaWANG/ML_toy_examples/blob/main/OOP%20for%20ML%20pipeline/Building%20FeatureSelector.ipynb).\n",
    "\n",
    "Will work on this after finish building a POC NestedCVTrainer and tested with the FeatureSelector class. "
   ]
  }
 ],
 "metadata": {
  "language_info": {
   "name": "python"
  }
 },
 "nbformat": 4,
 "nbformat_minor": 2
}
