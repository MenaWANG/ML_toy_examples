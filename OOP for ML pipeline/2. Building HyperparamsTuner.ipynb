{
 "cells": [
  {
   "cell_type": "markdown",
   "metadata": {},
   "source": [
    "## Hyperparams Tuner\n",
    "\n",
    "We can configure this `HyperparamsTuner` to accomplish hyperparameter tuning and return the best hyperparameter combination. This class is designed to be used either independently, or as one of the tasks we can conduct in the inner loop of nested cross-validation. Therefore, the structure of this class is consistent with the [FeatureSelector](https://github.com/MenaWANG/ML_toy_examples/blob/main/OOP%20for%20ML%20pipeline/Building%20FeatureSelector.ipynb) class in the same repo.\n",
    "\n",
    "Both this `HyperparamsTuner` and the [FeatureSelector](https://github.com/MenaWANG/ML_toy_examples/blob/main/OOP%20for%20ML%20pipeline/Building%20FeatureSelector.ipynb) class has a `summary_plot` which shed light on the optimizing process. For this tuner, there are two options, with the default option being parallel coordinates plot, while the user can also request for convergence plot:  \n",
    "\n",
    "* **parallel coordinates plot** \n",
    "    * visualizes hyperparameter spaces with model performance. \n",
    "    * We can use it to explore and compare configurations of multiple hyperparameters, and \n",
    "    * identify the most effective hyperparameter combinations. <br><br>  \n",
    "\n",
    "* **convergence plot**\n",
    "    * illustrates how the performance metric changes over iterations. \n",
    "    * We can use it to diagnose whether and how the tuning converges towards optimal performance, \n",
    "    * which provides insights into the stability and effectiveness of the tuning process. <br><br>\n"
   ]
  },
  {
   "cell_type": "code",
   "execution_count": 1,
   "metadata": {},
   "outputs": [],
   "source": [
    "import numpy as np\n",
    "import pandas as pd\n",
    "import lightgbm as lgb\n",
    "from sklearn.metrics import roc_auc_score, make_scorer\n",
    "from hyperopt import fmin, tpe, space_eval, Trials, hp\n",
    "from hyperopt.pyll.base import scope\n",
    "from hyperopt.early_stop import no_progress_loss\n",
    "from sklearn.model_selection import StratifiedKFold\n",
    "from mlops_class import MLUtils \n",
    "import matplotlib.pyplot as plt\n",
    "import seaborn as sns\n",
    "import plotly.express as px\n"
   ]
  },
  {
   "cell_type": "code",
   "execution_count": 2,
   "metadata": {},
   "outputs": [],
   "source": [
    "class HyperparamsTuner:\n",
    "    def __init__(self, \n",
    "                search_space, \n",
    "                scorer,\n",
    "                max_evals=500,\n",
    "                estimator=lgb.LGBMClassifier(verbose=-1),\n",
    "                cv = StratifiedKFold(n_splits=3, shuffle=True, random_state=42),\n",
    "                random_seed = 42,\n",
    "                no_progress_loss_n = 20):\n",
    "        self.scorer = scorer\n",
    "        self.max_evals = max_evals\n",
    "        self.search_space = search_space\n",
    "        self.estimator = estimator\n",
    "        self.cv = cv\n",
    "        self.random_seed = random_seed\n",
    "        self.no_progress_loss_n = no_progress_loss_n\n",
    "    \n",
    "    def select_hyperparams(self, X, y):        \n",
    "        \n",
    "        def objective(params):\n",
    "            \n",
    "            # define the model by hyperparams\n",
    "            model = self.estimator.set_params(**params)\n",
    "\n",
    "            # split by cv and return mean test score\n",
    "            scores = []\n",
    "            for train_idx, valid_idx in self.cv.split(X, y):\n",
    "                X_train, X_valid = X.iloc[train_idx], X.iloc[valid_idx]\n",
    "                y_train, y_valid = y[train_idx], y[valid_idx]\n",
    "\n",
    "                model.fit(X_train, y_train)            \n",
    "                score = self.scorer(model, X_valid, y_valid)\n",
    "                scores.append(score)\n",
    "            \n",
    "            return -np.mean(scores)  \n",
    "\n",
    "        self.trials = Trials()    \n",
    "        best = fmin(fn=objective,\n",
    "                space=self.search_space,\n",
    "                algo=tpe.suggest,\n",
    "                max_evals=self.max_evals,\n",
    "                trials=self.trials, \n",
    "                early_stop_fn=no_progress_loss(self.no_progress_loss_n),\n",
    "                rstate=np.random.RandomState(self.random_seed))\n",
    "                \n",
    "        self.best_params = space_eval(self.search_space, best)\n",
    "        \n",
    "        return self.best_params\n",
    "    \n",
    "    def summary_plot(self, type = 'hyperparams'):\n",
    "        \"\"\"For the 1st iteration, create the convergence plot. \n",
    "        \"\"\"\n",
    "        if type == 'hyperparams':\n",
    "            # draw parallel coordinates plot\n",
    "            hyperparams = []\n",
    "            metric = []\n",
    "\n",
    "            for trial in self.trials.trials:\n",
    "                # Extract hyperparameters\n",
    "                trial_hyperparams = {}\n",
    "                for key, values in trial['misc']['vals'].items():\n",
    "                    # Convert single-item lists to scalars\n",
    "                    trial_hyperparams[key] = values[0] if len(values) == 1 else values\n",
    "                hyperparams.append(trial_hyperparams)        \n",
    "                # Extract objective values (loss)\n",
    "                metric.append(-trial['result']['loss'])\n",
    "\n",
    "            # Create a DataFrame for plotting\n",
    "            df = pd.DataFrame(hyperparams)\n",
    "            df['metric'] = metric\n",
    "\n",
    "            # Create a parallel coordinates plot\n",
    "            fig = px.parallel_coordinates(df, color=\"metric\", \n",
    "                                          color_continuous_scale=px.colors.diverging.RdYlBu[::-1])\n",
    "\n",
    "            fig.show()  \n",
    "        \n",
    "        elif type == 'convergence':\n",
    "            iteration = [t['tid'] for t in self.trials.trials]\n",
    "            metric = [-t['result']['loss'] for t in self.trials.trials]\n",
    "\n",
    "            plt.figure(figsize=(10, 6))\n",
    "            plt.plot(iteration, metric, marker='o')\n",
    "            plt.title('Convergence Plot')\n",
    "            plt.xlabel('Iteration')\n",
    "            plt.ylabel('Target Metric Value')\n",
    "            plt.show()\n"
   ]
  },
  {
   "cell_type": "code",
   "execution_count": 3,
   "metadata": {},
   "outputs": [
    {
     "name": "stdout",
     "output_type": "stream",
     "text": [
      "  0%|          | 0/500 [00:00<?, ?trial/s, best loss=?]"
     ]
    },
    {
     "name": "stdout",
     "output_type": "stream",
     "text": [
      " 14%|█▍        | 69/500 [00:13<01:23,  5.16trial/s, best loss: -0.9882758737297737]\n",
      "best_params: {'boosting_type': 'gbdt', 'learning_rate': 0.3231425305763935, 'n_estimators': 258, 'num_leaves': 19}\n"
     ]
    }
   ],
   "source": [
    "# dataset for the demo\n",
    "from sklearn.datasets import load_breast_cancer\n",
    "data = load_breast_cancer()\n",
    "X = pd.DataFrame(data.data, columns=data.feature_names)\n",
    "y = pd.Series(data.target, name=\"target\")\n",
    "\n",
    "# custom_scorer\n",
    "custom_scorer = make_scorer(MLUtils.gini_scorer, greater_is_better=True, needs_proba=True)\n",
    "search_space = {\n",
    "    'num_leaves': scope.int(hp.quniform('num_leaves', 10, 50, 1)),\n",
    "    'learning_rate': hp.loguniform('learning_rate', -5, 0),\n",
    "    'n_estimators': scope.int(hp.quniform('n_estimators', 50, 300, 1)),\n",
    "    'boosting_type': hp.choice('boosting_type', ['gbdt', 'dart', 'goss']),\n",
    "}\n",
    "\n",
    "# Initialize the HyperparamesTuner with the desired configuration\n",
    "custom_tuner = HyperparamsTuner(search_space=search_space,\n",
    "                                scorer = custom_scorer,\n",
    "                                no_progress_loss_n=40)\n",
    "\n",
    "# Select the best hyperparams configuration\n",
    "best_params = custom_tuner.select_hyperparams(X, y)\n",
    "print(\"best_params:\", best_params)\n"
   ]
  },
  {
   "cell_type": "code",
   "execution_count": 39,
   "metadata": {},
   "outputs": [
    {
     "data": {
      "application/vnd.plotly.v1+json": {
       "config": {
        "plotlyServerURL": "https://plot.ly"
       },
       "data": [
        {
         "dimensions": [
          {
           "label": "boosting_type",
           "values": [
            1,
            1,
            2,
            0,
            0,
            1,
            1,
            2,
            1,
            0,
            2,
            2,
            0,
            2,
            1,
            2,
            2,
            0,
            2,
            0,
            0,
            0,
            0,
            0,
            0,
            0,
            0,
            0,
            0,
            0,
            0,
            0,
            1,
            0,
            0,
            1,
            0,
            0,
            1,
            0,
            1,
            0,
            0,
            2,
            1,
            0,
            2,
            0,
            2,
            0,
            1,
            0,
            2,
            0,
            0,
            1,
            0,
            2,
            0,
            0,
            0,
            2,
            1,
            0,
            0,
            0,
            0,
            0,
            0
           ]
          },
          {
           "label": "learning_rate",
           "values": [
            0.009516355818546441,
            0.7148661148637085,
            0.030716679965612847,
            0.011382203871255492,
            0.13402021764835548,
            0.09377107734744755,
            0.015268489153208331,
            0.04056355237221552,
            0.08064757992292716,
            0.5263755447016168,
            0.274285353560674,
            0.07673241739026948,
            0.8195859458044484,
            0.47268686426097045,
            0.0221463816100479,
            0.04270845503835249,
            0.028834283211472984,
            0.08018295720736836,
            0.38827598597071655,
            0.4490662103772588,
            0.21605735998306064,
            0.16108467145243063,
            0.1871184387656208,
            0.30585786813008825,
            0.1500298575010125,
            0.8999198365029439,
            0.12013527051623785,
            0.5967967208216709,
            0.3231425305763935,
            0.3380802975825352,
            0.2404723289557013,
            0.7014631433335344,
            0.6724660704553392,
            0.9048196538398484,
            0.7034150108648803,
            0.051567239742968535,
            0.12010391304263265,
            0.9547152150177172,
            0.38941166043163417,
            0.21552423344043348,
            0.5430962676778753,
            0.00844754627291201,
            0.06357001919059,
            0.09441301114645007,
            0.012589746291924594,
            0.27202142640729515,
            0.74573246342084,
            0.10088465740185402,
            0.4044108260395171,
            0.9975377296105328,
            0.020555802145509484,
            0.3342432284094789,
            0.1772096092330332,
            0.4817797449000349,
            0.05877929512112919,
            0.034952176101194825,
            0.5771136137151424,
            0.26794511460374704,
            0.13970179222722567,
            0.20196076144400504,
            0.8172174037532405,
            0.6551068729995708,
            0.11604308668614023,
            0.31623506065248386,
            0.07037541433955238,
            0.17183782402801978,
            0.22371360165766532,
            0.18965074125706163,
            0.45191349319230956
           ]
          },
          {
           "label": "n_estimators",
           "values": [
            258,
            232,
            271,
            280,
            93,
            160,
            285,
            244,
            280,
            225,
            254,
            140,
            127,
            53,
            280,
            210,
            81,
            220,
            224,
            269,
            198,
            184,
            187,
            176,
            146,
            109,
            164,
            56,
            258,
            299,
            257,
            242,
            242,
            297,
            205,
            241,
            267,
            298,
            240,
            256,
            291,
            214,
            192,
            232,
            279,
            251,
            266,
            152,
            125,
            164,
            202,
            288,
            232,
            216,
            230,
            278,
            175,
            249,
            70,
            135,
            101,
            261,
            209,
            273,
            183,
            126,
            136,
            90,
            112
           ]
          },
          {
           "label": "num_leaves",
           "values": [
            28,
            26,
            43,
            28,
            42,
            42,
            39,
            35,
            32,
            48,
            10,
            45,
            45,
            31,
            35,
            33,
            31,
            38,
            22,
            26,
            16,
            23,
            20,
            12,
            23,
            16,
            16,
            25,
            19,
            19,
            28,
            14,
            13,
            11,
            19,
            14,
            17,
            28,
            14,
            21,
            18,
            10,
            24,
            27,
            14,
            21,
            29,
            34,
            36,
            40,
            11,
            48,
            30,
            26,
            18,
            22,
            15,
            12,
            32,
            24,
            44,
            20,
            37,
            50,
            10,
            25,
            23,
            18,
            17
           ]
          },
          {
           "label": "metric",
           "values": [
            0.9586341578885076,
            0.983867349756804,
            0.9803729942681297,
            0.9706992656217416,
            0.983676851022099,
            0.97569957560489,
            0.9646337408202719,
            0.981006487101883,
            0.9784713885554223,
            0.9852696007980657,
            0.9837794272638632,
            0.9794261366518437,
            0.9840849015662604,
            0.983371376719702,
            0.9632100727614988,
            0.981006487101883,
            0.9712087651962195,
            0.9856720152849873,
            0.9847330481488369,
            0.9866290178043048,
            0.9833093800900642,
            0.9862175856257996,
            0.9850419040855778,
            0.9852752368553054,
            0.9858309520991496,
            0.9771378974124861,
            0.9853563960795585,
            0.982420010257624,
            0.9882758737297737,
            0.9843881214457614,
            0.9840939192578441,
            0.9871779697794612,
            0.9830704112630969,
            0.9811699327618371,
            0.97880955198981,
            0.9734722057837221,
            0.9868567145167925,
            0.985732884703177,
            0.9824989150589815,
            0.9847307937259412,
            0.9839518906154012,
            0.9643615192555895,
            0.9850340136054422,
            0.982903583968799,
            0.9650215015583697,
            0.9848063168929544,
            0.9805172773334686,
            0.9851027735037677,
            0.9813266151531036,
            0.9797383742229288,
            0.9642769783969926,
            0.984231439054495,
            0.9834604264240907,
            0.9831380439499743,
            0.9846383623872085,
            0.9685891257911616,
            0.9832124399055395,
            0.9815622023457271,
            0.9816061635921974,
            0.9871001921895518,
            0.9820998822064037,
            0.9819713801013364,
            0.979033867067954,
            0.9850475401428177,
            0.9851039007152155,
            0.9854330464580198,
            0.9861476985160259,
            0.9868319158649376,
            0.9844963337447655
           ]
          }
         ],
         "domain": {
          "x": [
           0,
           1
          ],
          "y": [
           0,
           1
          ]
         },
         "line": {
          "color": [
           0.9586341578885076,
           0.983867349756804,
           0.9803729942681297,
           0.9706992656217416,
           0.983676851022099,
           0.97569957560489,
           0.9646337408202719,
           0.981006487101883,
           0.9784713885554223,
           0.9852696007980657,
           0.9837794272638632,
           0.9794261366518437,
           0.9840849015662604,
           0.983371376719702,
           0.9632100727614988,
           0.981006487101883,
           0.9712087651962195,
           0.9856720152849873,
           0.9847330481488369,
           0.9866290178043048,
           0.9833093800900642,
           0.9862175856257996,
           0.9850419040855778,
           0.9852752368553054,
           0.9858309520991496,
           0.9771378974124861,
           0.9853563960795585,
           0.982420010257624,
           0.9882758737297737,
           0.9843881214457614,
           0.9840939192578441,
           0.9871779697794612,
           0.9830704112630969,
           0.9811699327618371,
           0.97880955198981,
           0.9734722057837221,
           0.9868567145167925,
           0.985732884703177,
           0.9824989150589815,
           0.9847307937259412,
           0.9839518906154012,
           0.9643615192555895,
           0.9850340136054422,
           0.982903583968799,
           0.9650215015583697,
           0.9848063168929544,
           0.9805172773334686,
           0.9851027735037677,
           0.9813266151531036,
           0.9797383742229288,
           0.9642769783969926,
           0.984231439054495,
           0.9834604264240907,
           0.9831380439499743,
           0.9846383623872085,
           0.9685891257911616,
           0.9832124399055395,
           0.9815622023457271,
           0.9816061635921974,
           0.9871001921895518,
           0.9820998822064037,
           0.9819713801013364,
           0.979033867067954,
           0.9850475401428177,
           0.9851039007152155,
           0.9854330464580198,
           0.9861476985160259,
           0.9868319158649376,
           0.9844963337447655
          ],
          "coloraxis": "coloraxis"
         },
         "name": "",
         "type": "parcoords"
        }
       ],
       "layout": {
        "coloraxis": {
         "colorbar": {
          "title": {
           "text": "metric"
          }
         },
         "colorscale": [
          [
           0,
           "rgb(49,54,149)"
          ],
          [
           0.1,
           "rgb(69,117,180)"
          ],
          [
           0.2,
           "rgb(116,173,209)"
          ],
          [
           0.3,
           "rgb(171,217,233)"
          ],
          [
           0.4,
           "rgb(224,243,248)"
          ],
          [
           0.5,
           "rgb(255,255,191)"
          ],
          [
           0.6,
           "rgb(254,224,144)"
          ],
          [
           0.7,
           "rgb(253,174,97)"
          ],
          [
           0.8,
           "rgb(244,109,67)"
          ],
          [
           0.9,
           "rgb(215,48,39)"
          ],
          [
           1,
           "rgb(165,0,38)"
          ]
         ]
        },
        "legend": {
         "tracegroupgap": 0
        },
        "margin": {
         "t": 60
        },
        "template": {
         "data": {
          "bar": [
           {
            "error_x": {
             "color": "#2a3f5f"
            },
            "error_y": {
             "color": "#2a3f5f"
            },
            "marker": {
             "line": {
              "color": "#E5ECF6",
              "width": 0.5
             },
             "pattern": {
              "fillmode": "overlay",
              "size": 10,
              "solidity": 0.2
             }
            },
            "type": "bar"
           }
          ],
          "barpolar": [
           {
            "marker": {
             "line": {
              "color": "#E5ECF6",
              "width": 0.5
             },
             "pattern": {
              "fillmode": "overlay",
              "size": 10,
              "solidity": 0.2
             }
            },
            "type": "barpolar"
           }
          ],
          "carpet": [
           {
            "aaxis": {
             "endlinecolor": "#2a3f5f",
             "gridcolor": "white",
             "linecolor": "white",
             "minorgridcolor": "white",
             "startlinecolor": "#2a3f5f"
            },
            "baxis": {
             "endlinecolor": "#2a3f5f",
             "gridcolor": "white",
             "linecolor": "white",
             "minorgridcolor": "white",
             "startlinecolor": "#2a3f5f"
            },
            "type": "carpet"
           }
          ],
          "choropleth": [
           {
            "colorbar": {
             "outlinewidth": 0,
             "ticks": ""
            },
            "type": "choropleth"
           }
          ],
          "contour": [
           {
            "colorbar": {
             "outlinewidth": 0,
             "ticks": ""
            },
            "colorscale": [
             [
              0,
              "#0d0887"
             ],
             [
              0.1111111111111111,
              "#46039f"
             ],
             [
              0.2222222222222222,
              "#7201a8"
             ],
             [
              0.3333333333333333,
              "#9c179e"
             ],
             [
              0.4444444444444444,
              "#bd3786"
             ],
             [
              0.5555555555555556,
              "#d8576b"
             ],
             [
              0.6666666666666666,
              "#ed7953"
             ],
             [
              0.7777777777777778,
              "#fb9f3a"
             ],
             [
              0.8888888888888888,
              "#fdca26"
             ],
             [
              1,
              "#f0f921"
             ]
            ],
            "type": "contour"
           }
          ],
          "contourcarpet": [
           {
            "colorbar": {
             "outlinewidth": 0,
             "ticks": ""
            },
            "type": "contourcarpet"
           }
          ],
          "heatmap": [
           {
            "colorbar": {
             "outlinewidth": 0,
             "ticks": ""
            },
            "colorscale": [
             [
              0,
              "#0d0887"
             ],
             [
              0.1111111111111111,
              "#46039f"
             ],
             [
              0.2222222222222222,
              "#7201a8"
             ],
             [
              0.3333333333333333,
              "#9c179e"
             ],
             [
              0.4444444444444444,
              "#bd3786"
             ],
             [
              0.5555555555555556,
              "#d8576b"
             ],
             [
              0.6666666666666666,
              "#ed7953"
             ],
             [
              0.7777777777777778,
              "#fb9f3a"
             ],
             [
              0.8888888888888888,
              "#fdca26"
             ],
             [
              1,
              "#f0f921"
             ]
            ],
            "type": "heatmap"
           }
          ],
          "heatmapgl": [
           {
            "colorbar": {
             "outlinewidth": 0,
             "ticks": ""
            },
            "colorscale": [
             [
              0,
              "#0d0887"
             ],
             [
              0.1111111111111111,
              "#46039f"
             ],
             [
              0.2222222222222222,
              "#7201a8"
             ],
             [
              0.3333333333333333,
              "#9c179e"
             ],
             [
              0.4444444444444444,
              "#bd3786"
             ],
             [
              0.5555555555555556,
              "#d8576b"
             ],
             [
              0.6666666666666666,
              "#ed7953"
             ],
             [
              0.7777777777777778,
              "#fb9f3a"
             ],
             [
              0.8888888888888888,
              "#fdca26"
             ],
             [
              1,
              "#f0f921"
             ]
            ],
            "type": "heatmapgl"
           }
          ],
          "histogram": [
           {
            "marker": {
             "pattern": {
              "fillmode": "overlay",
              "size": 10,
              "solidity": 0.2
             }
            },
            "type": "histogram"
           }
          ],
          "histogram2d": [
           {
            "colorbar": {
             "outlinewidth": 0,
             "ticks": ""
            },
            "colorscale": [
             [
              0,
              "#0d0887"
             ],
             [
              0.1111111111111111,
              "#46039f"
             ],
             [
              0.2222222222222222,
              "#7201a8"
             ],
             [
              0.3333333333333333,
              "#9c179e"
             ],
             [
              0.4444444444444444,
              "#bd3786"
             ],
             [
              0.5555555555555556,
              "#d8576b"
             ],
             [
              0.6666666666666666,
              "#ed7953"
             ],
             [
              0.7777777777777778,
              "#fb9f3a"
             ],
             [
              0.8888888888888888,
              "#fdca26"
             ],
             [
              1,
              "#f0f921"
             ]
            ],
            "type": "histogram2d"
           }
          ],
          "histogram2dcontour": [
           {
            "colorbar": {
             "outlinewidth": 0,
             "ticks": ""
            },
            "colorscale": [
             [
              0,
              "#0d0887"
             ],
             [
              0.1111111111111111,
              "#46039f"
             ],
             [
              0.2222222222222222,
              "#7201a8"
             ],
             [
              0.3333333333333333,
              "#9c179e"
             ],
             [
              0.4444444444444444,
              "#bd3786"
             ],
             [
              0.5555555555555556,
              "#d8576b"
             ],
             [
              0.6666666666666666,
              "#ed7953"
             ],
             [
              0.7777777777777778,
              "#fb9f3a"
             ],
             [
              0.8888888888888888,
              "#fdca26"
             ],
             [
              1,
              "#f0f921"
             ]
            ],
            "type": "histogram2dcontour"
           }
          ],
          "mesh3d": [
           {
            "colorbar": {
             "outlinewidth": 0,
             "ticks": ""
            },
            "type": "mesh3d"
           }
          ],
          "parcoords": [
           {
            "line": {
             "colorbar": {
              "outlinewidth": 0,
              "ticks": ""
             }
            },
            "type": "parcoords"
           }
          ],
          "pie": [
           {
            "automargin": true,
            "type": "pie"
           }
          ],
          "scatter": [
           {
            "fillpattern": {
             "fillmode": "overlay",
             "size": 10,
             "solidity": 0.2
            },
            "type": "scatter"
           }
          ],
          "scatter3d": [
           {
            "line": {
             "colorbar": {
              "outlinewidth": 0,
              "ticks": ""
             }
            },
            "marker": {
             "colorbar": {
              "outlinewidth": 0,
              "ticks": ""
             }
            },
            "type": "scatter3d"
           }
          ],
          "scattercarpet": [
           {
            "marker": {
             "colorbar": {
              "outlinewidth": 0,
              "ticks": ""
             }
            },
            "type": "scattercarpet"
           }
          ],
          "scattergeo": [
           {
            "marker": {
             "colorbar": {
              "outlinewidth": 0,
              "ticks": ""
             }
            },
            "type": "scattergeo"
           }
          ],
          "scattergl": [
           {
            "marker": {
             "colorbar": {
              "outlinewidth": 0,
              "ticks": ""
             }
            },
            "type": "scattergl"
           }
          ],
          "scattermapbox": [
           {
            "marker": {
             "colorbar": {
              "outlinewidth": 0,
              "ticks": ""
             }
            },
            "type": "scattermapbox"
           }
          ],
          "scatterpolar": [
           {
            "marker": {
             "colorbar": {
              "outlinewidth": 0,
              "ticks": ""
             }
            },
            "type": "scatterpolar"
           }
          ],
          "scatterpolargl": [
           {
            "marker": {
             "colorbar": {
              "outlinewidth": 0,
              "ticks": ""
             }
            },
            "type": "scatterpolargl"
           }
          ],
          "scatterternary": [
           {
            "marker": {
             "colorbar": {
              "outlinewidth": 0,
              "ticks": ""
             }
            },
            "type": "scatterternary"
           }
          ],
          "surface": [
           {
            "colorbar": {
             "outlinewidth": 0,
             "ticks": ""
            },
            "colorscale": [
             [
              0,
              "#0d0887"
             ],
             [
              0.1111111111111111,
              "#46039f"
             ],
             [
              0.2222222222222222,
              "#7201a8"
             ],
             [
              0.3333333333333333,
              "#9c179e"
             ],
             [
              0.4444444444444444,
              "#bd3786"
             ],
             [
              0.5555555555555556,
              "#d8576b"
             ],
             [
              0.6666666666666666,
              "#ed7953"
             ],
             [
              0.7777777777777778,
              "#fb9f3a"
             ],
             [
              0.8888888888888888,
              "#fdca26"
             ],
             [
              1,
              "#f0f921"
             ]
            ],
            "type": "surface"
           }
          ],
          "table": [
           {
            "cells": {
             "fill": {
              "color": "#EBF0F8"
             },
             "line": {
              "color": "white"
             }
            },
            "header": {
             "fill": {
              "color": "#C8D4E3"
             },
             "line": {
              "color": "white"
             }
            },
            "type": "table"
           }
          ]
         },
         "layout": {
          "annotationdefaults": {
           "arrowcolor": "#2a3f5f",
           "arrowhead": 0,
           "arrowwidth": 1
          },
          "autotypenumbers": "strict",
          "coloraxis": {
           "colorbar": {
            "outlinewidth": 0,
            "ticks": ""
           }
          },
          "colorscale": {
           "diverging": [
            [
             0,
             "#8e0152"
            ],
            [
             0.1,
             "#c51b7d"
            ],
            [
             0.2,
             "#de77ae"
            ],
            [
             0.3,
             "#f1b6da"
            ],
            [
             0.4,
             "#fde0ef"
            ],
            [
             0.5,
             "#f7f7f7"
            ],
            [
             0.6,
             "#e6f5d0"
            ],
            [
             0.7,
             "#b8e186"
            ],
            [
             0.8,
             "#7fbc41"
            ],
            [
             0.9,
             "#4d9221"
            ],
            [
             1,
             "#276419"
            ]
           ],
           "sequential": [
            [
             0,
             "#0d0887"
            ],
            [
             0.1111111111111111,
             "#46039f"
            ],
            [
             0.2222222222222222,
             "#7201a8"
            ],
            [
             0.3333333333333333,
             "#9c179e"
            ],
            [
             0.4444444444444444,
             "#bd3786"
            ],
            [
             0.5555555555555556,
             "#d8576b"
            ],
            [
             0.6666666666666666,
             "#ed7953"
            ],
            [
             0.7777777777777778,
             "#fb9f3a"
            ],
            [
             0.8888888888888888,
             "#fdca26"
            ],
            [
             1,
             "#f0f921"
            ]
           ],
           "sequentialminus": [
            [
             0,
             "#0d0887"
            ],
            [
             0.1111111111111111,
             "#46039f"
            ],
            [
             0.2222222222222222,
             "#7201a8"
            ],
            [
             0.3333333333333333,
             "#9c179e"
            ],
            [
             0.4444444444444444,
             "#bd3786"
            ],
            [
             0.5555555555555556,
             "#d8576b"
            ],
            [
             0.6666666666666666,
             "#ed7953"
            ],
            [
             0.7777777777777778,
             "#fb9f3a"
            ],
            [
             0.8888888888888888,
             "#fdca26"
            ],
            [
             1,
             "#f0f921"
            ]
           ]
          },
          "colorway": [
           "#636efa",
           "#EF553B",
           "#00cc96",
           "#ab63fa",
           "#FFA15A",
           "#19d3f3",
           "#FF6692",
           "#B6E880",
           "#FF97FF",
           "#FECB52"
          ],
          "font": {
           "color": "#2a3f5f"
          },
          "geo": {
           "bgcolor": "white",
           "lakecolor": "white",
           "landcolor": "#E5ECF6",
           "showlakes": true,
           "showland": true,
           "subunitcolor": "white"
          },
          "hoverlabel": {
           "align": "left"
          },
          "hovermode": "closest",
          "mapbox": {
           "style": "light"
          },
          "paper_bgcolor": "white",
          "plot_bgcolor": "#E5ECF6",
          "polar": {
           "angularaxis": {
            "gridcolor": "white",
            "linecolor": "white",
            "ticks": ""
           },
           "bgcolor": "#E5ECF6",
           "radialaxis": {
            "gridcolor": "white",
            "linecolor": "white",
            "ticks": ""
           }
          },
          "scene": {
           "xaxis": {
            "backgroundcolor": "#E5ECF6",
            "gridcolor": "white",
            "gridwidth": 2,
            "linecolor": "white",
            "showbackground": true,
            "ticks": "",
            "zerolinecolor": "white"
           },
           "yaxis": {
            "backgroundcolor": "#E5ECF6",
            "gridcolor": "white",
            "gridwidth": 2,
            "linecolor": "white",
            "showbackground": true,
            "ticks": "",
            "zerolinecolor": "white"
           },
           "zaxis": {
            "backgroundcolor": "#E5ECF6",
            "gridcolor": "white",
            "gridwidth": 2,
            "linecolor": "white",
            "showbackground": true,
            "ticks": "",
            "zerolinecolor": "white"
           }
          },
          "shapedefaults": {
           "line": {
            "color": "#2a3f5f"
           }
          },
          "ternary": {
           "aaxis": {
            "gridcolor": "white",
            "linecolor": "white",
            "ticks": ""
           },
           "baxis": {
            "gridcolor": "white",
            "linecolor": "white",
            "ticks": ""
           },
           "bgcolor": "#E5ECF6",
           "caxis": {
            "gridcolor": "white",
            "linecolor": "white",
            "ticks": ""
           }
          },
          "title": {
           "x": 0.05
          },
          "xaxis": {
           "automargin": true,
           "gridcolor": "white",
           "linecolor": "white",
           "ticks": "",
           "title": {
            "standoff": 15
           },
           "zerolinecolor": "white",
           "zerolinewidth": 2
          },
          "yaxis": {
           "automargin": true,
           "gridcolor": "white",
           "linecolor": "white",
           "ticks": "",
           "title": {
            "standoff": 15
           },
           "zerolinecolor": "white",
           "zerolinewidth": 2
          }
         }
        }
       }
      }
     },
     "metadata": {},
     "output_type": "display_data"
    }
   ],
   "source": [
    "# by default, the tuner returns a parallel coordinates plot \n",
    "custom_tuner.summary_plot()"
   ]
  },
  {
   "cell_type": "code",
   "execution_count": 40,
   "metadata": {},
   "outputs": [
    {
     "data": {
      "image/png": "[encoded data removed]",
      "text/plain": [
       "<Figure size 1000x600 with 1 Axes>"
      ]
     },
     "metadata": {},
     "output_type": "display_data"
    }
   ],
   "source": [
    "custom_tuner.summary_plot(type = 'convergence')"
   ]
  }
 ],
 "metadata": {
  "kernelspec": {
   "display_name": "py38-modelling",
   "language": "python",
   "name": "python3"
  },
  "language_info": {
   "codemirror_mode": {
    "name": "ipython",
    "version": 3
   },
   "file_extension": ".py",
   "mimetype": "text/x-python",
   "name": "python",
   "nbconvert_exporter": "python",
   "pygments_lexer": "ipython3",
   "version": "3.8.15"
  }
 },
 "nbformat": 4,
 "nbformat_minor": 2
}
