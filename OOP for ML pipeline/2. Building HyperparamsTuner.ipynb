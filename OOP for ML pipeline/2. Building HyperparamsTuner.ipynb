{
 "cells": [
  {
   "cell_type": "markdown",
   "metadata": {},
   "source": [
    "## Hyperparams Tuner\n",
    "\n",
    "We can configure this `HyperparamsTuner` to accomplish hyperparameter tuning and return the best hyperparameter combination. This class is designed to be used either independently, or as one of the tasks we can conduct in the inner loop of nested cross-validation. Therefore, the structure of this class is consistent with the [FeatureSelector](https://github.com/MenaWANG/ML_toy_examples/blob/main/OOP%20for%20ML%20pipeline/Building%20FeatureSelector.ipynb) class in the same repo.\n",
    "\n",
    "Both this `HyperparamsTuner` and the [FeatureSelector](https://github.com/MenaWANG/ML_toy_examples/blob/main/OOP%20for%20ML%20pipeline/Building%20FeatureSelector.ipynb) class has a `summary_plot` which shed light on the optimizing process. For this tuner, there are two options, with the default option being parallel coordinates plot, while the user can also request for convergence plot:\n",
    "\n",
    "    * **parallel coordinates plot** visualizes hyperparameter spaces with model performance. We can use it to explore and compare configurations of multiple hyperparameters, and identify the most effective hyperparameter combinations.\n",
    "    * **convergence plot** illustrates how the performance metric changes over iterations. We can use it to diagnose whether and how the tunning converges towards optimal performance, which provides insights into the stability and effectiveness of the tuning."
   ]
  },
  {
   "cell_type": "code",
   "execution_count": 2,
   "metadata": {},
   "outputs": [],
   "source": [
    "import numpy as np\n",
    "import pandas as pd\n",
    "import lightgbm as lgb\n",
    "from sklearn.metrics import roc_auc_score, make_scorer\n",
    "from hyperopt import fmin, tpe, space_eval, Trials, hp\n",
    "from hyperopt.pyll.base import scope\n",
    "from sklearn.model_selection import StratifiedKFold\n",
    "from mlops_class import MLUtils \n",
    "import matplotlib.pyplot as plt\n",
    "import seaborn as sns\n",
    "import plotly.express as px\n"
   ]
  },
  {
   "cell_type": "code",
   "execution_count": 3,
   "metadata": {},
   "outputs": [],
   "source": [
    "class HyperparamsTuner:\n",
    "    def __init__(self, \n",
    "                search_space, \n",
    "                scorer,\n",
    "                max_evals=100,\n",
    "                estimator=lgb.LGBMClassifier(verbose=-1),\n",
    "                cv = StratifiedKFold(n_splits=3, shuffle=True, random_state=42)):\n",
    "        self.scorer = scorer\n",
    "        self.max_evals = max_evals\n",
    "        self.search_space = search_space\n",
    "        self.estimator = estimator\n",
    "        self.cv = cv\n",
    "    \n",
    "    def select_hyperparams(self, X, y):        \n",
    "        \n",
    "        def objective(params):\n",
    "            \n",
    "            # define the model by hyperparams\n",
    "            model = self.estimator.set_params(**params)\n",
    "\n",
    "            # split by cv and return mean test score\n",
    "            scores = []\n",
    "            for train_idx, valid_idx in self.cv.split(X, y):\n",
    "                X_train, X_valid = X.iloc[train_idx], X.iloc[valid_idx]\n",
    "                y_train, y_valid = y[train_idx], y[valid_idx]\n",
    "\n",
    "                model.fit(X_train, y_train)            \n",
    "                score = self.scorer(model, X_valid, y_valid)\n",
    "                scores.append(score)\n",
    "            \n",
    "            return -np.mean(scores)  \n",
    "\n",
    "        self.trials = Trials()    \n",
    "        best = fmin(fn=objective,\n",
    "                space=self.search_space,\n",
    "                algo=tpe.suggest,\n",
    "                max_evals=self.max_evals,\n",
    "                trials=self.trials)\n",
    "                \n",
    "        self.best_params = space_eval(self.search_space, best)\n",
    "        \n",
    "        return self.best_params\n",
    "    \n",
    "    def summary_plot(self, type = 'hyperparams'):\n",
    "        \"\"\"For the 1st iteration, create the convergence plot. \n",
    "        \"\"\"\n",
    "        if type == 'hyperparams':\n",
    "            # draw parallel coordinates plot\n",
    "            hyperparams = []\n",
    "            metric = []\n",
    "\n",
    "            for trial in self.trials.trials:\n",
    "                # Extract hyperparameters\n",
    "                trial_hyperparams = {}\n",
    "                for key, values in trial['misc']['vals'].items():\n",
    "                    # Convert single-item lists to scalars\n",
    "                    trial_hyperparams[key] = values[0] if len(values) == 1 else values\n",
    "                hyperparams.append(trial_hyperparams)        \n",
    "                # Extract objective values (loss)\n",
    "                metric.append(-trial['result']['loss'])\n",
    "\n",
    "            # Create a DataFrame for plotting\n",
    "            df = pd.DataFrame(hyperparams)\n",
    "            df['metric'] = metric\n",
    "\n",
    "            # Create a parallel coordinates plot\n",
    "            fig = px.parallel_coordinates(df, color=\"metric\", \n",
    "                                          color_continuous_scale=px.colors.diverging.RdYlBu[::-1])\n",
    "\n",
    "            # Show the plot\n",
    "            fig.show()   \n",
    "        \n",
    "        elif type == 'convergence':\n",
    "            iteration = [t['tid'] for t in self.trials.trials]\n",
    "            metric = [-t['result']['loss'] for t in self.trials.trials]\n",
    "\n",
    "            plt.figure(figsize=(10, 6))\n",
    "            plt.plot(iteration, metric, marker='o')\n",
    "            plt.title('Convergence Plot')\n",
    "            plt.xlabel('Iteration')\n",
    "            plt.ylabel('Target Metric Value')\n",
    "            plt.show()\n"
   ]
  },
  {
   "cell_type": "code",
   "execution_count": 4,
   "metadata": {},
   "outputs": [
    {
     "name": "stdout",
     "output_type": "stream",
     "text": [
      "100%|██████████| 100/100 [00:26<00:00,  3.73trial/s, best loss: -0.9869322376838059]\n",
      "best_params: {'boosting_type': 'gbdt', 'learning_rate': 0.05628254299823097, 'n_estimators': 248, 'num_leaves': 28}\n"
     ]
    }
   ],
   "source": [
    "# dataset for the demo\n",
    "from sklearn.datasets import load_breast_cancer\n",
    "data = load_breast_cancer()\n",
    "X = pd.DataFrame(data.data, columns=data.feature_names)\n",
    "y = pd.Series(data.target, name=\"target\")\n",
    "\n",
    "# custom_scorer\n",
    "custom_scorer = make_scorer(MLUtils.gini_scorer, greater_is_better=True, needs_proba=True)\n",
    "search_space = {\n",
    "    'num_leaves': scope.int(hp.quniform('num_leaves', 10, 50, 1)),\n",
    "    'learning_rate': hp.loguniform('learning_rate', -5, 0),\n",
    "    'n_estimators': scope.int(hp.quniform('n_estimators', 50, 300, 1)),\n",
    "    'boosting_type': hp.choice('boosting_type', ['gbdt', 'dart', 'goss']),\n",
    "}\n",
    "\n",
    "# Initialize the HyperparamesTuner with the desired configuration\n",
    "custom_tuner = HyperparamsTuner(search_space=search_space,\n",
    "                                scorer = custom_scorer)\n",
    "\n",
    "# Select the best hyperparams configuration\n",
    "best_params = custom_tuner.select_hyperparams(X, y)\n",
    "print(\"best_params:\", best_params)\n"
   ]
  },
  {
   "cell_type": "code",
   "execution_count": 5,
   "metadata": {},
   "outputs": [
    {
     "data": {
      "application/vnd.plotly.v1+json": {
       "config": {
        "plotlyServerURL": "https://plot.ly"
       },
       "data": [
        {
         "dimensions": [
          {
           "label": "boosting_type",
           "values": [
            0,
            2,
            2,
            0,
            1,
            1,
            2,
            0,
            0,
            0,
            0,
            1,
            1,
            2,
            0,
            2,
            1,
            0,
            0,
            2,
            2,
            2,
            2,
            2,
            0,
            0,
            0,
            0,
            0,
            0,
            0,
            0,
            0,
            0,
            1,
            0,
            0,
            0,
            1,
            0,
            0,
            1,
            0,
            0,
            1,
            0,
            0,
            0,
            1,
            2,
            0,
            0,
            2,
            1,
            0,
            2,
            0,
            0,
            1,
            0,
            2,
            0,
            0,
            2,
            0,
            0,
            0,
            0,
            0,
            0,
            0,
            0,
            0,
            0,
            0,
            1,
            0,
            0,
            0,
            2,
            1,
            0,
            0,
            0,
            0,
            2,
            1,
            0,
            0,
            0,
            2,
            1,
            0,
            0,
            0,
            0,
            2,
            1,
            0,
            0
           ]
          },
          {
           "label": "learning_rate",
           "values": [
            0.05624225269742897,
            0.021311033491943306,
            0.2427918107862211,
            0.3965789559066123,
            0.07063220961832369,
            0.05293049550829585,
            0.011372239814411374,
            0.013894260135075491,
            0.03977754689356305,
            0.015516033763175867,
            0.19468445957163405,
            0.15786579971237677,
            0.025403095741405767,
            0.018881609111689797,
            0.4222999659592827,
            0.1254523729082351,
            0.942242120052331,
            0.04123554402773222,
            0.011535814044762113,
            0.031539308874994926,
            0.24341471554606617,
            0.972650578096561,
            0.8773442070409474,
            0.5979117746287959,
            0.10720936612420046,
            0.0996645145443481,
            0.09781354057975342,
            0.09638605242348283,
            0.0626084844655528,
            0.007478569787656647,
            0.1249887768017693,
            0.34990261574992887,
            0.27096677004190095,
            0.16890850957289633,
            0.08500082027882784,
            0.050335008920824015,
            0.5140195857844648,
            0.0755607863376635,
            0.13041899768173318,
            0.03321130047228296,
            0.0067621062137058876,
            0.28899544041324016,
            0.05628254299823097,
            0.02322523507549294,
            0.2052114915940585,
            0.01719799137759614,
            0.050581979114445494,
            0.008693152896062655,
            0.033443452461114596,
            0.06302295875811174,
            0.04303797403411144,
            0.012741358309466962,
            0.1539061233440814,
            0.02929540638350873,
            0.0202452245612785,
            0.7202233530541468,
            0.08312454532881308,
            0.3677256331538011,
            0.20341339599962524,
            0.10946715105084052,
            0.0275779162492693,
            0.06391626026033127,
            0.00978425930651352,
            0.04314110787234296,
            0.15070595337880607,
            0.10179065169056965,
            0.0566787321002097,
            0.17823802891083448,
            0.03754485497261232,
            0.3075077945584905,
            0.12219039587854749,
            0.23215243564125132,
            0.0709000235458785,
            0.08908142159549537,
            0.4709116563286294,
            0.14105941612572515,
            0.08385169521145323,
            0.023295634776425128,
            0.11319388121323218,
            0.054313476325125586,
            0.016276033336909693,
            0.03861533870449354,
            0.04697716649757354,
            0.09348244497285572,
            0.07532736527997111,
            0.2436666569394036,
            0.1824157232779596,
            0.03456942955321175,
            0.01448291053998246,
            0.06114687183056481,
            0.625478465288868,
            0.3330856713459377,
            0.1382964783143899,
            0.08814604275595868,
            0.026235578880224222,
            0.06805987850796723,
            0.4350217205159862,
            0.11584910883605494,
            0.018207395685307718,
            0.03018218456676252
           ]
          },
          {
           "label": "n_estimators",
           "values": [
            253,
            160,
            227,
            172,
            184,
            220,
            81,
            60,
            212,
            250,
            280,
            147,
            103,
            101,
            172,
            187,
            259,
            164,
            113,
            224,
            294,
            299,
            300,
            284,
            281,
            277,
            270,
            243,
            264,
            241,
            136,
            196,
            203,
            231,
            285,
            273,
            235,
            212,
            52,
            257,
            150,
            289,
            248,
            217,
            247,
            200,
            185,
            256,
            131,
            75,
            266,
            161,
            222,
            179,
            210,
            295,
            235,
            250,
            278,
            264,
            195,
            119,
            87,
            170,
            299,
            276,
            291,
            240,
            282,
            273,
            263,
            225,
            254,
            230,
            192,
            209,
            246,
            230,
            237,
            217,
            204,
            145,
            268,
            287,
            180,
            231,
            259,
            153,
            189,
            251,
            222,
            295,
            215,
            246,
            204,
            300,
            167,
            260,
            270,
            199
           ]
          },
          {
           "label": "num_leaves",
           "values": [
            31,
            12,
            11,
            14,
            40,
            32,
            41,
            13,
            18,
            25,
            25,
            22,
            34,
            17,
            31,
            18,
            23,
            21,
            32,
            27,
            47,
            10,
            37,
            49,
            43,
            45,
            45,
            44,
            38,
            49,
            43,
            36,
            47,
            41,
            50,
            39,
            42,
            29,
            47,
            35,
            45,
            40,
            28,
            29,
            15,
            34,
            20,
            27,
            24,
            27,
            33,
            30,
            20,
            13,
            17,
            25,
            37,
            31,
            27,
            22,
            33,
            29,
            11,
            38,
            35,
            45,
            50,
            43,
            41,
            48,
            46,
            43,
            39,
            36,
            36,
            33,
            32,
            40,
            35,
            28,
            31,
            24,
            42,
            26,
            39,
            38,
            34,
            37,
            30,
            23,
            36,
            44,
            19,
            32,
            28,
            42,
            48,
            16,
            26,
            22
           ]
          },
          {
           "label": "metric",
           "values": [
            0.9847150127656695,
            0.9757953885779663,
            0.9853575232910066,
            0.9842359479002868,
            0.9737213195137211,
            0.9726685040213269,
            0.9568982522586499,
            0.956900506681546,
            0.9808509319220646,
            0.9722908881862603,
            0.9859943977591036,
            0.9803684854223379,
            0.9639179615508175,
            0.9711264787605183,
            0.9848773312141758,
            0.9840183960908307,
            0.982509059962013,
            0.9790361214908497,
            0.9615739253447858,
            0.9783214694328436,
            0.9845053514363492,
            0.9860079242964792,
            0.9797473919145124,
            0.9826071273579854,
            0.9867011593369742,
            0.9865478585800517,
            0.9854353008809157,
            0.984788281509787,
            0.9847183944000135,
            0.9616843920666858,
            0.983842551104949,
            0.9860676665032209,
            0.9864565544527669,
            0.9851952048425003,
            0.9812398198716106,
            0.985349632810871,
            0.9850599394687453,
            0.9842258029972552,
            0.9744449892633109,
            0.9810109959476749,
            0.9584932564575125,
            0.9853563960795585,
            0.9869322376838059,
            0.9747606084687396,
            0.9849460911125013,
            0.9713755924905175,
            0.983060266360065,
            0.9653337391294546,
            0.9632151452130149,
            0.9780870094516679,
            0.9847206488229094,
            0.9649290702196373,
            0.9839372368665775,
            0.9641952555670156,
            0.9742691442774293,
            0.9845583303744033,
            0.9862976176386047,
            0.9841604247332736,
            0.9857385207604169,
            0.9863043809072926,
            0.978642724695512,
            0.9800528662169093,
            0.9566998630438093,
            0.9793551223306224,
            0.9864621905100068,
            0.984562839220195,
            0.9859898889133119,
            0.9851129184067992,
            0.9840961736807398,
            0.9861465713045782,
            0.9848683135225921,
            0.9843362697191553,
            0.9850261231253065,
            0.9868544600938968,
            0.9854465729953953,
            0.9844027751945849,
            0.986539968099916,
            0.9760986084574675,
            0.9851129184067992,
            0.980535312716636,
            0.9661272959888181,
            0.9762597996945258,
            0.9862243488944874,
            0.9848694407340401,
            0.9859053480547147,
            0.9850509217771615,
            0.9859763623759363,
            0.9742037660134476,
            0.969272215928625,
            0.986457681664215,
            0.9818744399168118,
            0.9863844129200977,
            0.9856596159590595,
            0.9863021264843965,
            0.9735714003911425,
            0.9861398080358903,
            0.9819668712555445,
            0.9826589790845915,
            0.9738103692181097,
            0.9754763877381939
           ]
          }
         ],
         "domain": {
          "x": [
           0,
           1
          ],
          "y": [
           0,
           1
          ]
         },
         "line": {
          "color": [
           0.9847150127656695,
           0.9757953885779663,
           0.9853575232910066,
           0.9842359479002868,
           0.9737213195137211,
           0.9726685040213269,
           0.9568982522586499,
           0.956900506681546,
           0.9808509319220646,
           0.9722908881862603,
           0.9859943977591036,
           0.9803684854223379,
           0.9639179615508175,
           0.9711264787605183,
           0.9848773312141758,
           0.9840183960908307,
           0.982509059962013,
           0.9790361214908497,
           0.9615739253447858,
           0.9783214694328436,
           0.9845053514363492,
           0.9860079242964792,
           0.9797473919145124,
           0.9826071273579854,
           0.9867011593369742,
           0.9865478585800517,
           0.9854353008809157,
           0.984788281509787,
           0.9847183944000135,
           0.9616843920666858,
           0.983842551104949,
           0.9860676665032209,
           0.9864565544527669,
           0.9851952048425003,
           0.9812398198716106,
           0.985349632810871,
           0.9850599394687453,
           0.9842258029972552,
           0.9744449892633109,
           0.9810109959476749,
           0.9584932564575125,
           0.9853563960795585,
           0.9869322376838059,
           0.9747606084687396,
           0.9849460911125013,
           0.9713755924905175,
           0.983060266360065,
           0.9653337391294546,
           0.9632151452130149,
           0.9780870094516679,
           0.9847206488229094,
           0.9649290702196373,
           0.9839372368665775,
           0.9641952555670156,
           0.9742691442774293,
           0.9845583303744033,
           0.9862976176386047,
           0.9841604247332736,
           0.9857385207604169,
           0.9863043809072926,
           0.978642724695512,
           0.9800528662169093,
           0.9566998630438093,
           0.9793551223306224,
           0.9864621905100068,
           0.984562839220195,
           0.9859898889133119,
           0.9851129184067992,
           0.9840961736807398,
           0.9861465713045782,
           0.9848683135225921,
           0.9843362697191553,
           0.9850261231253065,
           0.9868544600938968,
           0.9854465729953953,
           0.9844027751945849,
           0.986539968099916,
           0.9760986084574675,
           0.9851129184067992,
           0.980535312716636,
           0.9661272959888181,
           0.9762597996945258,
           0.9862243488944874,
           0.9848694407340401,
           0.9859053480547147,
           0.9850509217771615,
           0.9859763623759363,
           0.9742037660134476,
           0.969272215928625,
           0.986457681664215,
           0.9818744399168118,
           0.9863844129200977,
           0.9856596159590595,
           0.9863021264843965,
           0.9735714003911425,
           0.9861398080358903,
           0.9819668712555445,
           0.9826589790845915,
           0.9738103692181097,
           0.9754763877381939
          ],
          "coloraxis": "coloraxis"
         },
         "name": "",
         "type": "parcoords"
        }
       ],
       "layout": {
        "coloraxis": {
         "colorbar": {
          "title": {
           "text": "metric"
          }
         },
         "colorscale": [
          [
           0,
           "rgb(49,54,149)"
          ],
          [
           0.1,
           "rgb(69,117,180)"
          ],
          [
           0.2,
           "rgb(116,173,209)"
          ],
          [
           0.3,
           "rgb(171,217,233)"
          ],
          [
           0.4,
           "rgb(224,243,248)"
          ],
          [
           0.5,
           "rgb(255,255,191)"
          ],
          [
           0.6,
           "rgb(254,224,144)"
          ],
          [
           0.7,
           "rgb(253,174,97)"
          ],
          [
           0.8,
           "rgb(244,109,67)"
          ],
          [
           0.9,
           "rgb(215,48,39)"
          ],
          [
           1,
           "rgb(165,0,38)"
          ]
         ]
        },
        "legend": {
         "tracegroupgap": 0
        },
        "margin": {
         "t": 60
        },
        "template": {
         "data": {
          "bar": [
           {
            "error_x": {
             "color": "#2a3f5f"
            },
            "error_y": {
             "color": "#2a3f5f"
            },
            "marker": {
             "line": {
              "color": "#E5ECF6",
              "width": 0.5
             },
             "pattern": {
              "fillmode": "overlay",
              "size": 10,
              "solidity": 0.2
             }
            },
            "type": "bar"
           }
          ],
          "barpolar": [
           {
            "marker": {
             "line": {
              "color": "#E5ECF6",
              "width": 0.5
             },
             "pattern": {
              "fillmode": "overlay",
              "size": 10,
              "solidity": 0.2
             }
            },
            "type": "barpolar"
           }
          ],
          "carpet": [
           {
            "aaxis": {
             "endlinecolor": "#2a3f5f",
             "gridcolor": "white",
             "linecolor": "white",
             "minorgridcolor": "white",
             "startlinecolor": "#2a3f5f"
            },
            "baxis": {
             "endlinecolor": "#2a3f5f",
             "gridcolor": "white",
             "linecolor": "white",
             "minorgridcolor": "white",
             "startlinecolor": "#2a3f5f"
            },
            "type": "carpet"
           }
          ],
          "choropleth": [
           {
            "colorbar": {
             "outlinewidth": 0,
             "ticks": ""
            },
            "type": "choropleth"
           }
          ],
          "contour": [
           {
            "colorbar": {
             "outlinewidth": 0,
             "ticks": ""
            },
            "colorscale": [
             [
              0,
              "#0d0887"
             ],
             [
              0.1111111111111111,
              "#46039f"
             ],
             [
              0.2222222222222222,
              "#7201a8"
             ],
             [
              0.3333333333333333,
              "#9c179e"
             ],
             [
              0.4444444444444444,
              "#bd3786"
             ],
             [
              0.5555555555555556,
              "#d8576b"
             ],
             [
              0.6666666666666666,
              "#ed7953"
             ],
             [
              0.7777777777777778,
              "#fb9f3a"
             ],
             [
              0.8888888888888888,
              "#fdca26"
             ],
             [
              1,
              "#f0f921"
             ]
            ],
            "type": "contour"
           }
          ],
          "contourcarpet": [
           {
            "colorbar": {
             "outlinewidth": 0,
             "ticks": ""
            },
            "type": "contourcarpet"
           }
          ],
          "heatmap": [
           {
            "colorbar": {
             "outlinewidth": 0,
             "ticks": ""
            },
            "colorscale": [
             [
              0,
              "#0d0887"
             ],
             [
              0.1111111111111111,
              "#46039f"
             ],
             [
              0.2222222222222222,
              "#7201a8"
             ],
             [
              0.3333333333333333,
              "#9c179e"
             ],
             [
              0.4444444444444444,
              "#bd3786"
             ],
             [
              0.5555555555555556,
              "#d8576b"
             ],
             [
              0.6666666666666666,
              "#ed7953"
             ],
             [
              0.7777777777777778,
              "#fb9f3a"
             ],
             [
              0.8888888888888888,
              "#fdca26"
             ],
             [
              1,
              "#f0f921"
             ]
            ],
            "type": "heatmap"
           }
          ],
          "heatmapgl": [
           {
            "colorbar": {
             "outlinewidth": 0,
             "ticks": ""
            },
            "colorscale": [
             [
              0,
              "#0d0887"
             ],
             [
              0.1111111111111111,
              "#46039f"
             ],
             [
              0.2222222222222222,
              "#7201a8"
             ],
             [
              0.3333333333333333,
              "#9c179e"
             ],
             [
              0.4444444444444444,
              "#bd3786"
             ],
             [
              0.5555555555555556,
              "#d8576b"
             ],
             [
              0.6666666666666666,
              "#ed7953"
             ],
             [
              0.7777777777777778,
              "#fb9f3a"
             ],
             [
              0.8888888888888888,
              "#fdca26"
             ],
             [
              1,
              "#f0f921"
             ]
            ],
            "type": "heatmapgl"
           }
          ],
          "histogram": [
           {
            "marker": {
             "pattern": {
              "fillmode": "overlay",
              "size": 10,
              "solidity": 0.2
             }
            },
            "type": "histogram"
           }
          ],
          "histogram2d": [
           {
            "colorbar": {
             "outlinewidth": 0,
             "ticks": ""
            },
            "colorscale": [
             [
              0,
              "#0d0887"
             ],
             [
              0.1111111111111111,
              "#46039f"
             ],
             [
              0.2222222222222222,
              "#7201a8"
             ],
             [
              0.3333333333333333,
              "#9c179e"
             ],
             [
              0.4444444444444444,
              "#bd3786"
             ],
             [
              0.5555555555555556,
              "#d8576b"
             ],
             [
              0.6666666666666666,
              "#ed7953"
             ],
             [
              0.7777777777777778,
              "#fb9f3a"
             ],
             [
              0.8888888888888888,
              "#fdca26"
             ],
             [
              1,
              "#f0f921"
             ]
            ],
            "type": "histogram2d"
           }
          ],
          "histogram2dcontour": [
           {
            "colorbar": {
             "outlinewidth": 0,
             "ticks": ""
            },
            "colorscale": [
             [
              0,
              "#0d0887"
             ],
             [
              0.1111111111111111,
              "#46039f"
             ],
             [
              0.2222222222222222,
              "#7201a8"
             ],
             [
              0.3333333333333333,
              "#9c179e"
             ],
             [
              0.4444444444444444,
              "#bd3786"
             ],
             [
              0.5555555555555556,
              "#d8576b"
             ],
             [
              0.6666666666666666,
              "#ed7953"
             ],
             [
              0.7777777777777778,
              "#fb9f3a"
             ],
             [
              0.8888888888888888,
              "#fdca26"
             ],
             [
              1,
              "#f0f921"
             ]
            ],
            "type": "histogram2dcontour"
           }
          ],
          "mesh3d": [
           {
            "colorbar": {
             "outlinewidth": 0,
             "ticks": ""
            },
            "type": "mesh3d"
           }
          ],
          "parcoords": [
           {
            "line": {
             "colorbar": {
              "outlinewidth": 0,
              "ticks": ""
             }
            },
            "type": "parcoords"
           }
          ],
          "pie": [
           {
            "automargin": true,
            "type": "pie"
           }
          ],
          "scatter": [
           {
            "fillpattern": {
             "fillmode": "overlay",
             "size": 10,
             "solidity": 0.2
            },
            "type": "scatter"
           }
          ],
          "scatter3d": [
           {
            "line": {
             "colorbar": {
              "outlinewidth": 0,
              "ticks": ""
             }
            },
            "marker": {
             "colorbar": {
              "outlinewidth": 0,
              "ticks": ""
             }
            },
            "type": "scatter3d"
           }
          ],
          "scattercarpet": [
           {
            "marker": {
             "colorbar": {
              "outlinewidth": 0,
              "ticks": ""
             }
            },
            "type": "scattercarpet"
           }
          ],
          "scattergeo": [
           {
            "marker": {
             "colorbar": {
              "outlinewidth": 0,
              "ticks": ""
             }
            },
            "type": "scattergeo"
           }
          ],
          "scattergl": [
           {
            "marker": {
             "colorbar": {
              "outlinewidth": 0,
              "ticks": ""
             }
            },
            "type": "scattergl"
           }
          ],
          "scattermapbox": [
           {
            "marker": {
             "colorbar": {
              "outlinewidth": 0,
              "ticks": ""
             }
            },
            "type": "scattermapbox"
           }
          ],
          "scatterpolar": [
           {
            "marker": {
             "colorbar": {
              "outlinewidth": 0,
              "ticks": ""
             }
            },
            "type": "scatterpolar"
           }
          ],
          "scatterpolargl": [
           {
            "marker": {
             "colorbar": {
              "outlinewidth": 0,
              "ticks": ""
             }
            },
            "type": "scatterpolargl"
           }
          ],
          "scatterternary": [
           {
            "marker": {
             "colorbar": {
              "outlinewidth": 0,
              "ticks": ""
             }
            },
            "type": "scatterternary"
           }
          ],
          "surface": [
           {
            "colorbar": {
             "outlinewidth": 0,
             "ticks": ""
            },
            "colorscale": [
             [
              0,
              "#0d0887"
             ],
             [
              0.1111111111111111,
              "#46039f"
             ],
             [
              0.2222222222222222,
              "#7201a8"
             ],
             [
              0.3333333333333333,
              "#9c179e"
             ],
             [
              0.4444444444444444,
              "#bd3786"
             ],
             [
              0.5555555555555556,
              "#d8576b"
             ],
             [
              0.6666666666666666,
              "#ed7953"
             ],
             [
              0.7777777777777778,
              "#fb9f3a"
             ],
             [
              0.8888888888888888,
              "#fdca26"
             ],
             [
              1,
              "#f0f921"
             ]
            ],
            "type": "surface"
           }
          ],
          "table": [
           {
            "cells": {
             "fill": {
              "color": "#EBF0F8"
             },
             "line": {
              "color": "white"
             }
            },
            "header": {
             "fill": {
              "color": "#C8D4E3"
             },
             "line": {
              "color": "white"
             }
            },
            "type": "table"
           }
          ]
         },
         "layout": {
          "annotationdefaults": {
           "arrowcolor": "#2a3f5f",
           "arrowhead": 0,
           "arrowwidth": 1
          },
          "autotypenumbers": "strict",
          "coloraxis": {
           "colorbar": {
            "outlinewidth": 0,
            "ticks": ""
           }
          },
          "colorscale": {
           "diverging": [
            [
             0,
             "#8e0152"
            ],
            [
             0.1,
             "#c51b7d"
            ],
            [
             0.2,
             "#de77ae"
            ],
            [
             0.3,
             "#f1b6da"
            ],
            [
             0.4,
             "#fde0ef"
            ],
            [
             0.5,
             "#f7f7f7"
            ],
            [
             0.6,
             "#e6f5d0"
            ],
            [
             0.7,
             "#b8e186"
            ],
            [
             0.8,
             "#7fbc41"
            ],
            [
             0.9,
             "#4d9221"
            ],
            [
             1,
             "#276419"
            ]
           ],
           "sequential": [
            [
             0,
             "#0d0887"
            ],
            [
             0.1111111111111111,
             "#46039f"
            ],
            [
             0.2222222222222222,
             "#7201a8"
            ],
            [
             0.3333333333333333,
             "#9c179e"
            ],
            [
             0.4444444444444444,
             "#bd3786"
            ],
            [
             0.5555555555555556,
             "#d8576b"
            ],
            [
             0.6666666666666666,
             "#ed7953"
            ],
            [
             0.7777777777777778,
             "#fb9f3a"
            ],
            [
             0.8888888888888888,
             "#fdca26"
            ],
            [
             1,
             "#f0f921"
            ]
           ],
           "sequentialminus": [
            [
             0,
             "#0d0887"
            ],
            [
             0.1111111111111111,
             "#46039f"
            ],
            [
             0.2222222222222222,
             "#7201a8"
            ],
            [
             0.3333333333333333,
             "#9c179e"
            ],
            [
             0.4444444444444444,
             "#bd3786"
            ],
            [
             0.5555555555555556,
             "#d8576b"
            ],
            [
             0.6666666666666666,
             "#ed7953"
            ],
            [
             0.7777777777777778,
             "#fb9f3a"
            ],
            [
             0.8888888888888888,
             "#fdca26"
            ],
            [
             1,
             "#f0f921"
            ]
           ]
          },
          "colorway": [
           "#636efa",
           "#EF553B",
           "#00cc96",
           "#ab63fa",
           "#FFA15A",
           "#19d3f3",
           "#FF6692",
           "#B6E880",
           "#FF97FF",
           "#FECB52"
          ],
          "font": {
           "color": "#2a3f5f"
          },
          "geo": {
           "bgcolor": "white",
           "lakecolor": "white",
           "landcolor": "#E5ECF6",
           "showlakes": true,
           "showland": true,
           "subunitcolor": "white"
          },
          "hoverlabel": {
           "align": "left"
          },
          "hovermode": "closest",
          "mapbox": {
           "style": "light"
          },
          "paper_bgcolor": "white",
          "plot_bgcolor": "#E5ECF6",
          "polar": {
           "angularaxis": {
            "gridcolor": "white",
            "linecolor": "white",
            "ticks": ""
           },
           "bgcolor": "#E5ECF6",
           "radialaxis": {
            "gridcolor": "white",
            "linecolor": "white",
            "ticks": ""
           }
          },
          "scene": {
           "xaxis": {
            "backgroundcolor": "#E5ECF6",
            "gridcolor": "white",
            "gridwidth": 2,
            "linecolor": "white",
            "showbackground": true,
            "ticks": "",
            "zerolinecolor": "white"
           },
           "yaxis": {
            "backgroundcolor": "#E5ECF6",
            "gridcolor": "white",
            "gridwidth": 2,
            "linecolor": "white",
            "showbackground": true,
            "ticks": "",
            "zerolinecolor": "white"
           },
           "zaxis": {
            "backgroundcolor": "#E5ECF6",
            "gridcolor": "white",
            "gridwidth": 2,
            "linecolor": "white",
            "showbackground": true,
            "ticks": "",
            "zerolinecolor": "white"
           }
          },
          "shapedefaults": {
           "line": {
            "color": "#2a3f5f"
           }
          },
          "ternary": {
           "aaxis": {
            "gridcolor": "white",
            "linecolor": "white",
            "ticks": ""
           },
           "baxis": {
            "gridcolor": "white",
            "linecolor": "white",
            "ticks": ""
           },
           "bgcolor": "#E5ECF6",
           "caxis": {
            "gridcolor": "white",
            "linecolor": "white",
            "ticks": ""
           }
          },
          "title": {
           "x": 0.05
          },
          "xaxis": {
           "automargin": true,
           "gridcolor": "white",
           "linecolor": "white",
           "ticks": "",
           "title": {
            "standoff": 15
           },
           "zerolinecolor": "white",
           "zerolinewidth": 2
          },
          "yaxis": {
           "automargin": true,
           "gridcolor": "white",
           "linecolor": "white",
           "ticks": "",
           "title": {
            "standoff": 15
           },
           "zerolinecolor": "white",
           "zerolinewidth": 2
          }
         }
        }
       }
      }
     },
     "metadata": {},
     "output_type": "display_data"
    }
   ],
   "source": [
    "# by default, the tuner returns a parallel coordinates plot \n",
    "custom_tuner.summary_plot()"
   ]
  },
  {
   "cell_type": "code",
   "execution_count": 6,
   "metadata": {},
   "outputs": [
    {
     "data": {
      "image/png": "[encoded data removed]",
      "text/plain": [
       "<Figure size 1000x600 with 1 Axes>"
      ]
     },
     "metadata": {},
     "output_type": "display_data"
    }
   ],
   "source": [
    "custom_tuner.summary_plot(type = 'convergence')"
   ]
  }
 ],
 "metadata": {
  "kernelspec": {
   "display_name": "py38-modelling",
   "language": "python",
   "name": "python3"
  },
  "language_info": {
   "codemirror_mode": {
    "name": "ipython",
    "version": 3
   },
   "file_extension": ".py",
   "mimetype": "text/x-python",
   "name": "python",
   "nbconvert_exporter": "python",
   "pygments_lexer": "ipython3",
   "version": "3.8.15"
  }
 },
 "nbformat": 4,
 "nbformat_minor": 2
}
