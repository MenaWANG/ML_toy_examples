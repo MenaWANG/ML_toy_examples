{
 "cells": [
  {
   "cell_type": "markdown",
   "metadata": {},
   "source": [
    "## Hyperparams Tuner\n",
    "\n",
    "We can configure this `HyperparamsTuner` to accomplish hyperparameter tuning and return the best hyperparameter combination. This class is designed to be used either independently, or as one of the tasks we can conduct in the inner loop of nested cross-validation. Therefore, the structure of this class is consistent with the [FeatureSelector](https://github.com/MenaWANG/ML_toy_examples/blob/main/OOP%20for%20ML%20pipeline/Building%20FeatureSelector.ipynb) class in the same repo.\n",
    "\n",
    "Both this `HyperparamsTuner` and the [FeatureSelector](https://github.com/MenaWANG/ML_toy_examples/blob/main/OOP%20for%20ML%20pipeline/Building%20FeatureSelector.ipynb) class has a `summary_plot` which shed light on the optimizing process. For this tuner, there are two options, with the default option being parallel coordinates plot, while the user can also request for convergence plot:\n",
    "\n",
    "    * **parallel coordinates plot** visualizes hyperparameter spaces with model performance. We can use it to explore and compare configurations of multiple hyperparameters, and identify the most effective hyperparameter combinations.\n",
    "    * **convergence plot** illustrates how the performance metric changes over iterations. We can use it to diagnose whether and how the tunning converges towards optimal performance, which provides insights into the stability and effectiveness of the tuning."
   ]
  },
  {
   "cell_type": "code",
   "execution_count": 2,
   "metadata": {},
   "outputs": [],
   "source": [
    "import numpy as np\n",
    "import pandas as pd\n",
    "import lightgbm as lgb\n",
    "from sklearn.metrics import roc_auc_score, make_scorer\n",
    "from hyperopt import fmin, tpe, space_eval, Trials, hp\n",
    "from hyperopt.pyll.base import scope\n",
    "from sklearn.model_selection import StratifiedKFold\n",
    "from mlops_class import MLUtils \n",
    "import matplotlib.pyplot as plt\n",
    "import seaborn as sns\n",
    "import plotly.express as px\n"
   ]
  },
  {
   "cell_type": "code",
   "execution_count": 46,
   "metadata": {},
   "outputs": [],
   "source": [
    "class HyperparamsTuner:\n",
    "    def __init__(self, \n",
    "                search_space, \n",
    "                scorer,\n",
    "                max_evals=100,\n",
    "                estimator=lgb.LGBMClassifier(verbose=-1),\n",
    "                cv = StratifiedKFold(n_splits=3, shuffle=True, random_state=42)):\n",
    "        self.scorer = scorer\n",
    "        self.max_evals = max_evals\n",
    "        self.search_space = search_space\n",
    "        self.estimator = estimator\n",
    "        self.cv = cv\n",
    "    \n",
    "    def select_hyperparams(self, X, y):        \n",
    "        \n",
    "        def objective(params):\n",
    "            \n",
    "            # define the model by hyperparams\n",
    "            model = self.estimator.set_params(**params)\n",
    "\n",
    "            # split by cv and return mean test score\n",
    "            scores = []\n",
    "            for train_idx, valid_idx in self.cv.split(X, y):\n",
    "                X_train, X_valid = X.iloc[train_idx], X.iloc[valid_idx]\n",
    "                y_train, y_valid = y[train_idx], y[valid_idx]\n",
    "\n",
    "                model.fit(X_train, y_train)            \n",
    "                score = self.scorer(model, X_valid, y_valid)\n",
    "                scores.append(score)\n",
    "            \n",
    "            return -np.mean(scores)  \n",
    "\n",
    "        self.trials = Trials()    \n",
    "        best = fmin(fn=objective,\n",
    "                space=self.search_space,\n",
    "                algo=tpe.suggest,\n",
    "                max_evals=self.max_evals,\n",
    "                trials=self.trials)\n",
    "                \n",
    "        self.best_params = space_eval(self.search_space, best)\n",
    "        \n",
    "        return self.best_params\n",
    "    \n",
    "    def summary_plot(self, type = 'hyperparams'):\n",
    "        \"\"\"For the 1st iteration, create the convergence plot. \n",
    "        \"\"\"\n",
    "        if type == 'hyperparams':\n",
    "            # draw parallel coordinates plot\n",
    "            hyperparams = []\n",
    "            metric = []\n",
    "\n",
    "            for trial in self.trials.trials:\n",
    "                # Extract hyperparameters\n",
    "                trial_hyperparams = {}\n",
    "                for key, values in trial['misc']['vals'].items():\n",
    "                    # Convert single-item lists to scalars\n",
    "                    trial_hyperparams[key] = values[0] if len(values) == 1 else values\n",
    "                hyperparams.append(trial_hyperparams)        \n",
    "                # Extract objective values (loss)\n",
    "                metric.append(-trial['result']['loss'])\n",
    "\n",
    "            # Create a DataFrame for plotting\n",
    "            df = pd.DataFrame(hyperparams)\n",
    "            df['metric'] = metric\n",
    "\n",
    "            # Create a parallel coordinates plot\n",
    "            fig = px.parallel_coordinates(df, color=\"metric\", \n",
    "                                          color_continuous_scale=px.colors.diverging.RdYlBu[::-1])\n",
    "\n",
    "            # Show the plot\n",
    "            fig.show()   \n",
    "        \n",
    "        elif type == 'convergence':\n",
    "            iteration = [t['tid'] for t in self.trials.trials]\n",
    "            metric = [-t['result']['loss'] for t in self.trials.trials]\n",
    "\n",
    "            plt.figure(figsize=(10, 6))\n",
    "            plt.plot(iteration, metric, marker='o')\n",
    "            plt.title('Convergence Plot')\n",
    "            plt.xlabel('Iteration')\n",
    "            plt.ylabel('Target Metric Value')\n",
    "            plt.show()\n"
   ]
  },
  {
   "cell_type": "code",
   "execution_count": 54,
   "metadata": {},
   "outputs": [
    {
     "name": "stdout",
     "output_type": "stream",
     "text": [
      "  0%|          | 0/100 [00:00<?, ?trial/s, best loss=?]"
     ]
    },
    {
     "name": "stdout",
     "output_type": "stream",
     "text": [
      "100%|██████████| 100/100 [00:21<00:00,  4.71trial/s, best loss: -0.9874067937033968]\n",
      "best_params: {'boosting_type': 'dart', 'learning_rate': 0.2503881003312571, 'n_estimators': 157, 'num_leaves': 48}\n"
     ]
    }
   ],
   "source": [
    "# dataset for the demo\n",
    "from sklearn.datasets import load_breast_cancer\n",
    "data = load_breast_cancer()\n",
    "X = pd.DataFrame(data.data, columns=data.feature_names)\n",
    "y = pd.Series(data.target, name=\"target\")\n",
    "\n",
    "# custom_scorer\n",
    "custom_scorer = make_scorer(MLUtils.gini_scorer, greater_is_better=True, needs_proba=True)\n",
    "search_space = {\n",
    "    'num_leaves': scope.int(hp.quniform('num_leaves', 10, 50, 1)),\n",
    "    'learning_rate': hp.loguniform('learning_rate', -5, 0),\n",
    "    'n_estimators': scope.int(hp.quniform('n_estimators', 50, 300, 1)),\n",
    "    'boosting_type': hp.choice('boosting_type', ['gbdt', 'dart', 'goss']),\n",
    "}\n",
    "\n",
    "# Initialize the HyperparamesTuner with the desired configuration\n",
    "custom_tuner = HyperparamsTuner(search_space=search_space,\n",
    "                                scorer = custom_scorer)\n",
    "\n",
    "# Select the best hyperparams configuration\n",
    "best_params = custom_tuner.select_hyperparams(X, y)\n",
    "print(\"best_params:\", best_params)\n"
   ]
  },
  {
   "cell_type": "code",
   "execution_count": 55,
   "metadata": {},
   "outputs": [
    {
     "data": {
      "application/vnd.plotly.v1+json": {
       "config": {
        "plotlyServerURL": "https://plot.ly"
       },
       "data": [
        {
         "dimensions": [
          {
           "label": "boosting_type",
           "values": [
            2,
            0,
            1,
            2,
            0,
            1,
            2,
            1,
            2,
            0,
            1,
            2,
            2,
            0,
            1,
            0,
            2,
            2,
            0,
            0,
            1,
            1,
            0,
            1,
            1,
            0,
            1,
            0,
            0,
            0,
            0,
            0,
            0,
            0,
            0,
            0,
            0,
            0,
            0,
            0,
            2,
            0,
            2,
            0,
            0,
            2,
            0,
            0,
            2,
            1,
            0,
            0,
            2,
            1,
            0,
            1,
            0,
            2,
            0,
            1,
            0,
            0,
            2,
            0,
            1,
            0,
            0,
            0,
            0,
            0,
            0,
            0,
            0,
            0,
            0,
            0,
            0,
            0,
            0,
            2,
            1,
            0,
            0,
            0,
            2,
            0,
            1,
            0,
            0,
            0,
            2,
            1,
            0,
            0,
            0,
            2,
            0,
            1,
            1,
            1
           ]
          },
          {
           "label": "learning_rate",
           "values": [
            0.16014040583978403,
            0.08039796955442893,
            0.1459492460625311,
            0.04537717829052755,
            0.20875998626744133,
            0.46282864696534004,
            0.02731833334164397,
            0.02841169160160843,
            0.007463501435592993,
            0.0068147957161504725,
            0.07662815689765504,
            0.4741580698873068,
            0.050006886576823076,
            0.6171914230018307,
            0.2691125755694359,
            0.20514279532513818,
            0.44408394903257326,
            0.2663121637962949,
            0.01579769811767253,
            0.03631235799726991,
            0.8869972005279229,
            0.25490139446280635,
            0.11408612815237619,
            0.9966900182812021,
            0.30379532382262625,
            0.1162636428659435,
            0.766899838137249,
            0.33015203147312716,
            0.1621410152421152,
            0.17103786325050202,
            0.06729779371274365,
            0.1100677562987768,
            0.18081403321971176,
            0.12983542646885132,
            0.05577982578005518,
            0.014237921224604487,
            0.38130226264170874,
            0.40158297026605777,
            0.6013944522722611,
            0.6226988015254601,
            0.20542523743710397,
            0.36792615994714606,
            0.07819024022273015,
            0.09241614686362129,
            0.7935235697776333,
            0.03801324443529894,
            0.23266407606473735,
            0.5261892510830088,
            0.5923870453304467,
            0.5197813517711702,
            0.00929551400550961,
            0.024187881748673444,
            0.9578832803097564,
            0.14254723358453775,
            0.4827843507033735,
            0.30444530770268524,
            0.7468326469559742,
            0.06033863242360116,
            0.2354575033105603,
            0.09933430266232306,
            0.039008924617756464,
            0.18527992682785613,
            0.026600256197098236,
            0.3348664235212781,
            0.14212816078754947,
            0.18248426184097263,
            0.20733988463151892,
            0.27733551620557545,
            0.41694169002481285,
            0.0912417278075584,
            0.06715648453381491,
            0.03285769591592125,
            0.04827189924169058,
            0.021325117260688753,
            0.06853599489902297,
            0.12732485597581267,
            0.019196248675735935,
            0.01019751666221342,
            0.057943843386228974,
            0.04473348677552841,
            0.685857251058815,
            0.5331774243439252,
            0.15823007644350584,
            0.10803126916018829,
            0.8973470773902468,
            0.08351997840160336,
            0.06794612807871288,
            0.03233158564608762,
            0.2302695898412593,
            0.32981380579176467,
            0.46003842849065435,
            0.12545227906427767,
            0.014013421246823221,
            0.289466766759215,
            0.15330779038348413,
            0.3570531434579203,
            0.07495917107161201,
            0.2503881003312571,
            0.20974115532220536,
            0.24991073937380284
           ]
          },
          {
           "label": "n_estimators",
           "values": [
            256,
            164,
            140,
            299,
            248,
            100,
            226,
            57,
            282,
            174,
            261,
            289,
            226,
            136,
            108,
            149,
            253,
            158,
            120,
            87,
            205,
            52,
            188,
            80,
            116,
            196,
            71,
            220,
            237,
            249,
            268,
            238,
            274,
            298,
            212,
            190,
            233,
            180,
            234,
            299,
            281,
            165,
            247,
            261,
            205,
            223,
            285,
            271,
            293,
            269,
            254,
            128,
            148,
            215,
            278,
            170,
            203,
            290,
            259,
            184,
            267,
            244,
            195,
            228,
            158,
            247,
            245,
            241,
            214,
            274,
            228,
            263,
            230,
            221,
            254,
            196,
            295,
            179,
            210,
            96,
            275,
            288,
            239,
            201,
            252,
            219,
            266,
            283,
            234,
            209,
            259,
            138,
            226,
            145,
            172,
            191,
            66,
            157,
            124,
            156
           ]
          },
          {
           "label": "num_leaves",
           "values": [
            40,
            13,
            25,
            38,
            43,
            38,
            29,
            50,
            27,
            46,
            11,
            13,
            38,
            46,
            12,
            14,
            38,
            49,
            34,
            41,
            20,
            17,
            22,
            33,
            44,
            33,
            19,
            24,
            24,
            30,
            16,
            30,
            26,
            35,
            43,
            24,
            28,
            28,
            48,
            40,
            32,
            37,
            31,
            36,
            40,
            27,
            46,
            43,
            43,
            50,
            47,
            44,
            41,
            50,
            38,
            42,
            45,
            39,
            48,
            36,
            10,
            49,
            45,
            35,
            42,
            48,
            47,
            49,
            39,
            45,
            49,
            43,
            41,
            33,
            47,
            22,
            37,
            44,
            39,
            46,
            34,
            42,
            50,
            32,
            40,
            37,
            29,
            44,
            49,
            46,
            17,
            14,
            35,
            43,
            41,
            26,
            31,
            48,
            48,
            47
           ]
          },
          {
           "label": "metric",
           "values": [
            0.9829058383916948,
            0.985343996753631,
            0.9810752470002084,
            0.9824279007377599,
            0.9870111424851631,
            0.9853507600223187,
            0.9795106775104409,
            0.9571360938741694,
            0.9715266388245439,
            0.9619008166646941,
            0.9770511021309933,
            0.9817301568514729,
            0.9823444870906108,
            0.9851275721556227,
            0.9857385207604169,
            0.9839192014834103,
            0.9828404601277132,
            0.9852019681111882,
            0.9616798832208939,
            0.9697557896397996,
            0.9852853817583371,
            0.9825789470717865,
            0.9855164601051687,
            0.9826014913007457,
            0.9850452857199219,
            0.9849460911125014,
            0.9814990785046412,
            0.9858997119974751,
            0.9864565544527671,
            0.984953981592637,
            0.9855874744263903,
            0.9846327263299686,
            0.9856021281752136,
            0.9848784584256238,
            0.9863043809072924,
            0.9698989454936905,
            0.9865320776197803,
            0.9829700894442285,
            0.9837704095722796,
            0.9806965039536942,
            0.984179587327889,
            0.9846428712330003,
            0.9827480287889804,
            0.9854353008809159,
            0.9813209790958637,
            0.9809275823005258,
            0.9855976193294218,
            0.9868713682656161,
            0.9823512503592987,
            0.9837828088982071,
            0.9657632066911273,
            0.971328249609703,
            0.9805961821348257,
            0.9814754070642341,
            0.986072175349013,
            0.9852774912782013,
            0.9857554289321362,
            0.9827514104233243,
            0.9833702495082539,
            0.9772765444205852,
            0.98448280720739,
            0.9868522056710006,
            0.9782493279001742,
            0.986375395228514,
            0.9798116429670459,
            0.9844771711501501,
            0.9848029352586104,
            0.9849596176498768,
            0.9851027735037677,
            0.9863799040743056,
            0.9869378737410456,
            0.98186429501378,
            0.9839327280207858,
            0.9749037643226305,
            0.9867733008696437,
            0.9855040607792412,
            0.9760219580790063,
            0.9617170811986767,
            0.9839327280207857,
            0.978002468593071,
            0.9828336968590253,
            0.9841694424248573,
            0.9867744280810915,
            0.986071048137565,
            0.9844050296174808,
            0.9850328863939941,
            0.978391356542617,
            0.9827502832118763,
            0.9837546286120084,
            0.985511951259377,
            0.9834626808469866,
            0.9769699429067402,
            0.9711309876063101,
            0.9848074441044022,
            0.9847984264128188,
            0.9840161416679347,
            0.9746749403986947,
            0.9874067937033968,
            0.9852673463751698,
            0.9873335249592795
           ]
          }
         ],
         "domain": {
          "x": [
           0,
           1
          ],
          "y": [
           0,
           1
          ]
         },
         "line": {
          "color": [
           0.9829058383916948,
           0.985343996753631,
           0.9810752470002084,
           0.9824279007377599,
           0.9870111424851631,
           0.9853507600223187,
           0.9795106775104409,
           0.9571360938741694,
           0.9715266388245439,
           0.9619008166646941,
           0.9770511021309933,
           0.9817301568514729,
           0.9823444870906108,
           0.9851275721556227,
           0.9857385207604169,
           0.9839192014834103,
           0.9828404601277132,
           0.9852019681111882,
           0.9616798832208939,
           0.9697557896397996,
           0.9852853817583371,
           0.9825789470717865,
           0.9855164601051687,
           0.9826014913007457,
           0.9850452857199219,
           0.9849460911125014,
           0.9814990785046412,
           0.9858997119974751,
           0.9864565544527671,
           0.984953981592637,
           0.9855874744263903,
           0.9846327263299686,
           0.9856021281752136,
           0.9848784584256238,
           0.9863043809072924,
           0.9698989454936905,
           0.9865320776197803,
           0.9829700894442285,
           0.9837704095722796,
           0.9806965039536942,
           0.984179587327889,
           0.9846428712330003,
           0.9827480287889804,
           0.9854353008809159,
           0.9813209790958637,
           0.9809275823005258,
           0.9855976193294218,
           0.9868713682656161,
           0.9823512503592987,
           0.9837828088982071,
           0.9657632066911273,
           0.971328249609703,
           0.9805961821348257,
           0.9814754070642341,
           0.986072175349013,
           0.9852774912782013,
           0.9857554289321362,
           0.9827514104233243,
           0.9833702495082539,
           0.9772765444205852,
           0.98448280720739,
           0.9868522056710006,
           0.9782493279001742,
           0.986375395228514,
           0.9798116429670459,
           0.9844771711501501,
           0.9848029352586104,
           0.9849596176498768,
           0.9851027735037677,
           0.9863799040743056,
           0.9869378737410456,
           0.98186429501378,
           0.9839327280207858,
           0.9749037643226305,
           0.9867733008696437,
           0.9855040607792412,
           0.9760219580790063,
           0.9617170811986767,
           0.9839327280207857,
           0.978002468593071,
           0.9828336968590253,
           0.9841694424248573,
           0.9867744280810915,
           0.986071048137565,
           0.9844050296174808,
           0.9850328863939941,
           0.978391356542617,
           0.9827502832118763,
           0.9837546286120084,
           0.985511951259377,
           0.9834626808469866,
           0.9769699429067402,
           0.9711309876063101,
           0.9848074441044022,
           0.9847984264128188,
           0.9840161416679347,
           0.9746749403986947,
           0.9874067937033968,
           0.9852673463751698,
           0.9873335249592795
          ],
          "coloraxis": "coloraxis"
         },
         "name": "",
         "type": "parcoords"
        }
       ],
       "layout": {
        "coloraxis": {
         "colorbar": {
          "title": {
           "text": "metric"
          }
         },
         "colorscale": [
          [
           0,
           "rgb(49,54,149)"
          ],
          [
           0.1,
           "rgb(69,117,180)"
          ],
          [
           0.2,
           "rgb(116,173,209)"
          ],
          [
           0.3,
           "rgb(171,217,233)"
          ],
          [
           0.4,
           "rgb(224,243,248)"
          ],
          [
           0.5,
           "rgb(255,255,191)"
          ],
          [
           0.6,
           "rgb(254,224,144)"
          ],
          [
           0.7,
           "rgb(253,174,97)"
          ],
          [
           0.8,
           "rgb(244,109,67)"
          ],
          [
           0.9,
           "rgb(215,48,39)"
          ],
          [
           1,
           "rgb(165,0,38)"
          ]
         ]
        },
        "legend": {
         "tracegroupgap": 0
        },
        "margin": {
         "t": 60
        },
        "template": {
         "data": {
          "bar": [
           {
            "error_x": {
             "color": "#2a3f5f"
            },
            "error_y": {
             "color": "#2a3f5f"
            },
            "marker": {
             "line": {
              "color": "#E5ECF6",
              "width": 0.5
             },
             "pattern": {
              "fillmode": "overlay",
              "size": 10,
              "solidity": 0.2
             }
            },
            "type": "bar"
           }
          ],
          "barpolar": [
           {
            "marker": {
             "line": {
              "color": "#E5ECF6",
              "width": 0.5
             },
             "pattern": {
              "fillmode": "overlay",
              "size": 10,
              "solidity": 0.2
             }
            },
            "type": "barpolar"
           }
          ],
          "carpet": [
           {
            "aaxis": {
             "endlinecolor": "#2a3f5f",
             "gridcolor": "white",
             "linecolor": "white",
             "minorgridcolor": "white",
             "startlinecolor": "#2a3f5f"
            },
            "baxis": {
             "endlinecolor": "#2a3f5f",
             "gridcolor": "white",
             "linecolor": "white",
             "minorgridcolor": "white",
             "startlinecolor": "#2a3f5f"
            },
            "type": "carpet"
           }
          ],
          "choropleth": [
           {
            "colorbar": {
             "outlinewidth": 0,
             "ticks": ""
            },
            "type": "choropleth"
           }
          ],
          "contour": [
           {
            "colorbar": {
             "outlinewidth": 0,
             "ticks": ""
            },
            "colorscale": [
             [
              0,
              "#0d0887"
             ],
             [
              0.1111111111111111,
              "#46039f"
             ],
             [
              0.2222222222222222,
              "#7201a8"
             ],
             [
              0.3333333333333333,
              "#9c179e"
             ],
             [
              0.4444444444444444,
              "#bd3786"
             ],
             [
              0.5555555555555556,
              "#d8576b"
             ],
             [
              0.6666666666666666,
              "#ed7953"
             ],
             [
              0.7777777777777778,
              "#fb9f3a"
             ],
             [
              0.8888888888888888,
              "#fdca26"
             ],
             [
              1,
              "#f0f921"
             ]
            ],
            "type": "contour"
           }
          ],
          "contourcarpet": [
           {
            "colorbar": {
             "outlinewidth": 0,
             "ticks": ""
            },
            "type": "contourcarpet"
           }
          ],
          "heatmap": [
           {
            "colorbar": {
             "outlinewidth": 0,
             "ticks": ""
            },
            "colorscale": [
             [
              0,
              "#0d0887"
             ],
             [
              0.1111111111111111,
              "#46039f"
             ],
             [
              0.2222222222222222,
              "#7201a8"
             ],
             [
              0.3333333333333333,
              "#9c179e"
             ],
             [
              0.4444444444444444,
              "#bd3786"
             ],
             [
              0.5555555555555556,
              "#d8576b"
             ],
             [
              0.6666666666666666,
              "#ed7953"
             ],
             [
              0.7777777777777778,
              "#fb9f3a"
             ],
             [
              0.8888888888888888,
              "#fdca26"
             ],
             [
              1,
              "#f0f921"
             ]
            ],
            "type": "heatmap"
           }
          ],
          "heatmapgl": [
           {
            "colorbar": {
             "outlinewidth": 0,
             "ticks": ""
            },
            "colorscale": [
             [
              0,
              "#0d0887"
             ],
             [
              0.1111111111111111,
              "#46039f"
             ],
             [
              0.2222222222222222,
              "#7201a8"
             ],
             [
              0.3333333333333333,
              "#9c179e"
             ],
             [
              0.4444444444444444,
              "#bd3786"
             ],
             [
              0.5555555555555556,
              "#d8576b"
             ],
             [
              0.6666666666666666,
              "#ed7953"
             ],
             [
              0.7777777777777778,
              "#fb9f3a"
             ],
             [
              0.8888888888888888,
              "#fdca26"
             ],
             [
              1,
              "#f0f921"
             ]
            ],
            "type": "heatmapgl"
           }
          ],
          "histogram": [
           {
            "marker": {
             "pattern": {
              "fillmode": "overlay",
              "size": 10,
              "solidity": 0.2
             }
            },
            "type": "histogram"
           }
          ],
          "histogram2d": [
           {
            "colorbar": {
             "outlinewidth": 0,
             "ticks": ""
            },
            "colorscale": [
             [
              0,
              "#0d0887"
             ],
             [
              0.1111111111111111,
              "#46039f"
             ],
             [
              0.2222222222222222,
              "#7201a8"
             ],
             [
              0.3333333333333333,
              "#9c179e"
             ],
             [
              0.4444444444444444,
              "#bd3786"
             ],
             [
              0.5555555555555556,
              "#d8576b"
             ],
             [
              0.6666666666666666,
              "#ed7953"
             ],
             [
              0.7777777777777778,
              "#fb9f3a"
             ],
             [
              0.8888888888888888,
              "#fdca26"
             ],
             [
              1,
              "#f0f921"
             ]
            ],
            "type": "histogram2d"
           }
          ],
          "histogram2dcontour": [
           {
            "colorbar": {
             "outlinewidth": 0,
             "ticks": ""
            },
            "colorscale": [
             [
              0,
              "#0d0887"
             ],
             [
              0.1111111111111111,
              "#46039f"
             ],
             [
              0.2222222222222222,
              "#7201a8"
             ],
             [
              0.3333333333333333,
              "#9c179e"
             ],
             [
              0.4444444444444444,
              "#bd3786"
             ],
             [
              0.5555555555555556,
              "#d8576b"
             ],
             [
              0.6666666666666666,
              "#ed7953"
             ],
             [
              0.7777777777777778,
              "#fb9f3a"
             ],
             [
              0.8888888888888888,
              "#fdca26"
             ],
             [
              1,
              "#f0f921"
             ]
            ],
            "type": "histogram2dcontour"
           }
          ],
          "mesh3d": [
           {
            "colorbar": {
             "outlinewidth": 0,
             "ticks": ""
            },
            "type": "mesh3d"
           }
          ],
          "parcoords": [
           {
            "line": {
             "colorbar": {
              "outlinewidth": 0,
              "ticks": ""
             }
            },
            "type": "parcoords"
           }
          ],
          "pie": [
           {
            "automargin": true,
            "type": "pie"
           }
          ],
          "scatter": [
           {
            "fillpattern": {
             "fillmode": "overlay",
             "size": 10,
             "solidity": 0.2
            },
            "type": "scatter"
           }
          ],
          "scatter3d": [
           {
            "line": {
             "colorbar": {
              "outlinewidth": 0,
              "ticks": ""
             }
            },
            "marker": {
             "colorbar": {
              "outlinewidth": 0,
              "ticks": ""
             }
            },
            "type": "scatter3d"
           }
          ],
          "scattercarpet": [
           {
            "marker": {
             "colorbar": {
              "outlinewidth": 0,
              "ticks": ""
             }
            },
            "type": "scattercarpet"
           }
          ],
          "scattergeo": [
           {
            "marker": {
             "colorbar": {
              "outlinewidth": 0,
              "ticks": ""
             }
            },
            "type": "scattergeo"
           }
          ],
          "scattergl": [
           {
            "marker": {
             "colorbar": {
              "outlinewidth": 0,
              "ticks": ""
             }
            },
            "type": "scattergl"
           }
          ],
          "scattermapbox": [
           {
            "marker": {
             "colorbar": {
              "outlinewidth": 0,
              "ticks": ""
             }
            },
            "type": "scattermapbox"
           }
          ],
          "scatterpolar": [
           {
            "marker": {
             "colorbar": {
              "outlinewidth": 0,
              "ticks": ""
             }
            },
            "type": "scatterpolar"
           }
          ],
          "scatterpolargl": [
           {
            "marker": {
             "colorbar": {
              "outlinewidth": 0,
              "ticks": ""
             }
            },
            "type": "scatterpolargl"
           }
          ],
          "scatterternary": [
           {
            "marker": {
             "colorbar": {
              "outlinewidth": 0,
              "ticks": ""
             }
            },
            "type": "scatterternary"
           }
          ],
          "surface": [
           {
            "colorbar": {
             "outlinewidth": 0,
             "ticks": ""
            },
            "colorscale": [
             [
              0,
              "#0d0887"
             ],
             [
              0.1111111111111111,
              "#46039f"
             ],
             [
              0.2222222222222222,
              "#7201a8"
             ],
             [
              0.3333333333333333,
              "#9c179e"
             ],
             [
              0.4444444444444444,
              "#bd3786"
             ],
             [
              0.5555555555555556,
              "#d8576b"
             ],
             [
              0.6666666666666666,
              "#ed7953"
             ],
             [
              0.7777777777777778,
              "#fb9f3a"
             ],
             [
              0.8888888888888888,
              "#fdca26"
             ],
             [
              1,
              "#f0f921"
             ]
            ],
            "type": "surface"
           }
          ],
          "table": [
           {
            "cells": {
             "fill": {
              "color": "#EBF0F8"
             },
             "line": {
              "color": "white"
             }
            },
            "header": {
             "fill": {
              "color": "#C8D4E3"
             },
             "line": {
              "color": "white"
             }
            },
            "type": "table"
           }
          ]
         },
         "layout": {
          "annotationdefaults": {
           "arrowcolor": "#2a3f5f",
           "arrowhead": 0,
           "arrowwidth": 1
          },
          "autotypenumbers": "strict",
          "coloraxis": {
           "colorbar": {
            "outlinewidth": 0,
            "ticks": ""
           }
          },
          "colorscale": {
           "diverging": [
            [
             0,
             "#8e0152"
            ],
            [
             0.1,
             "#c51b7d"
            ],
            [
             0.2,
             "#de77ae"
            ],
            [
             0.3,
             "#f1b6da"
            ],
            [
             0.4,
             "#fde0ef"
            ],
            [
             0.5,
             "#f7f7f7"
            ],
            [
             0.6,
             "#e6f5d0"
            ],
            [
             0.7,
             "#b8e186"
            ],
            [
             0.8,
             "#7fbc41"
            ],
            [
             0.9,
             "#4d9221"
            ],
            [
             1,
             "#276419"
            ]
           ],
           "sequential": [
            [
             0,
             "#0d0887"
            ],
            [
             0.1111111111111111,
             "#46039f"
            ],
            [
             0.2222222222222222,
             "#7201a8"
            ],
            [
             0.3333333333333333,
             "#9c179e"
            ],
            [
             0.4444444444444444,
             "#bd3786"
            ],
            [
             0.5555555555555556,
             "#d8576b"
            ],
            [
             0.6666666666666666,
             "#ed7953"
            ],
            [
             0.7777777777777778,
             "#fb9f3a"
            ],
            [
             0.8888888888888888,
             "#fdca26"
            ],
            [
             1,
             "#f0f921"
            ]
           ],
           "sequentialminus": [
            [
             0,
             "#0d0887"
            ],
            [
             0.1111111111111111,
             "#46039f"
            ],
            [
             0.2222222222222222,
             "#7201a8"
            ],
            [
             0.3333333333333333,
             "#9c179e"
            ],
            [
             0.4444444444444444,
             "#bd3786"
            ],
            [
             0.5555555555555556,
             "#d8576b"
            ],
            [
             0.6666666666666666,
             "#ed7953"
            ],
            [
             0.7777777777777778,
             "#fb9f3a"
            ],
            [
             0.8888888888888888,
             "#fdca26"
            ],
            [
             1,
             "#f0f921"
            ]
           ]
          },
          "colorway": [
           "#636efa",
           "#EF553B",
           "#00cc96",
           "#ab63fa",
           "#FFA15A",
           "#19d3f3",
           "#FF6692",
           "#B6E880",
           "#FF97FF",
           "#FECB52"
          ],
          "font": {
           "color": "#2a3f5f"
          },
          "geo": {
           "bgcolor": "white",
           "lakecolor": "white",
           "landcolor": "#E5ECF6",
           "showlakes": true,
           "showland": true,
           "subunitcolor": "white"
          },
          "hoverlabel": {
           "align": "left"
          },
          "hovermode": "closest",
          "mapbox": {
           "style": "light"
          },
          "paper_bgcolor": "white",
          "plot_bgcolor": "#E5ECF6",
          "polar": {
           "angularaxis": {
            "gridcolor": "white",
            "linecolor": "white",
            "ticks": ""
           },
           "bgcolor": "#E5ECF6",
           "radialaxis": {
            "gridcolor": "white",
            "linecolor": "white",
            "ticks": ""
           }
          },
          "scene": {
           "xaxis": {
            "backgroundcolor": "#E5ECF6",
            "gridcolor": "white",
            "gridwidth": 2,
            "linecolor": "white",
            "showbackground": true,
            "ticks": "",
            "zerolinecolor": "white"
           },
           "yaxis": {
            "backgroundcolor": "#E5ECF6",
            "gridcolor": "white",
            "gridwidth": 2,
            "linecolor": "white",
            "showbackground": true,
            "ticks": "",
            "zerolinecolor": "white"
           },
           "zaxis": {
            "backgroundcolor": "#E5ECF6",
            "gridcolor": "white",
            "gridwidth": 2,
            "linecolor": "white",
            "showbackground": true,
            "ticks": "",
            "zerolinecolor": "white"
           }
          },
          "shapedefaults": {
           "line": {
            "color": "#2a3f5f"
           }
          },
          "ternary": {
           "aaxis": {
            "gridcolor": "white",
            "linecolor": "white",
            "ticks": ""
           },
           "baxis": {
            "gridcolor": "white",
            "linecolor": "white",
            "ticks": ""
           },
           "bgcolor": "#E5ECF6",
           "caxis": {
            "gridcolor": "white",
            "linecolor": "white",
            "ticks": ""
           }
          },
          "title": {
           "x": 0.05
          },
          "xaxis": {
           "automargin": true,
           "gridcolor": "white",
           "linecolor": "white",
           "ticks": "",
           "title": {
            "standoff": 15
           },
           "zerolinecolor": "white",
           "zerolinewidth": 2
          },
          "yaxis": {
           "automargin": true,
           "gridcolor": "white",
           "linecolor": "white",
           "ticks": "",
           "title": {
            "standoff": 15
           },
           "zerolinecolor": "white",
           "zerolinewidth": 2
          }
         }
        }
       }
      }
     },
     "metadata": {},
     "output_type": "display_data"
    }
   ],
   "source": [
    "# by default, the tuner returns a parallel coordinates plot \n",
    "custom_tuner.summary_plot()"
   ]
  },
  {
   "cell_type": "code",
   "execution_count": 56,
   "metadata": {},
   "outputs": [
    {
     "data": {
      "image/png": "[encoded data removed]",
      "text/plain": [
       "<Figure size 1000x600 with 1 Axes>"
      ]
     },
     "metadata": {},
     "output_type": "display_data"
    }
   ],
   "source": [
    "custom_tuner.summary_plot(type = 'convergence')"
   ]
  }
 ],
 "metadata": {
  "kernelspec": {
   "display_name": "py38-modelling",
   "language": "python",
   "name": "python3"
  },
  "language_info": {
   "codemirror_mode": {
    "name": "ipython",
    "version": 3
   },
   "file_extension": ".py",
   "mimetype": "text/x-python",
   "name": "python",
   "nbconvert_exporter": "python",
   "pygments_lexer": "ipython3",
   "version": "3.8.15"
  }
 },
 "nbformat": 4,
 "nbformat_minor": 2
}
