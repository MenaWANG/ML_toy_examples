{
 "cells": [
  {
   "cell_type": "markdown",
   "metadata": {},
   "source": [
    "The `NestedOptimizer` should take any estimator, optimizer, inner and outer cv methods and return the tuning results. "
   ]
  },
  {
   "cell_type": "code",
   "execution_count": 3,
   "metadata": {},
   "outputs": [],
   "source": [
    "import lightgbm as lgb\n",
    "from sklearn.metrics import make_scorer\n",
    "from sklearn.model_selection import StratifiedKFold\n",
    "from sklearn.datasets import load_breast_cancer\n",
    "from sklearn.feature_selection import RFECV\n",
    "from mlops_class import FeatureSelector, MLUtils\n",
    "import pandas as pd\n",
    "import numpy as np"
   ]
  },
  {
   "cell_type": "code",
   "execution_count": 4,
   "metadata": {},
   "outputs": [],
   "source": [
    "class NestedCVOptimizer:\n",
    "\n",
    "    def __init__(self, estimator=lgb.LGBMClassifier(verbose=-1),\n",
    "                cv=StratifiedKFold(n_splits=5, shuffle=True, random_state=42),\n",
    "                task='feature_selection',\n",
    "                optimizer=None,scorer=None):\n",
    "        self.estimator = estimator\n",
    "        self.cv = cv\n",
    "        self.task=task\n",
    "        self.optimizer = optimizer\n",
    "        self.scorer = scorer\n",
    "    \n",
    "    \n",
    "    def optimize(self, X, y):\n",
    "        \"\"\"Optimize based on the CV Optimizer configerations\n",
    "\n",
    "        Args:\n",
    "            X (df): the features\n",
    "            y (array): the target\n",
    "\n",
    "        Returns:\n",
    "            best_set: best_feature_set for FeatureSelector, best_hyperms_set for HypermsTuner\n",
    "        \"\"\"\n",
    "\n",
    "        if self.task == 'feature_selection':\n",
    "            #TODO: more code can be shared between FeatureSelector and HypermsTuner\n",
    "\n",
    "            selected_features_all_folds = []\n",
    "            outer_loop_log = {}\n",
    "            test_scores = []\n",
    "\n",
    "            for i, (train_idx, test_idx) in enumerate(cv.split(X,y)):\n",
    "                X_train, X_test = X.iloc[train_idx], X.iloc[test_idx]\n",
    "                y_train, y_test = y[train_idx], y[test_idx]\n",
    "                \n",
    "                # Perform feature selection using the inner cross-validation\n",
    "                selected_features, inner_score = self.optimizer.select_features(X_train, y_train)\n",
    "                # Train the estimator on the selected features\n",
    "                self.estimator.fit(X_train[selected_features], y_train)\n",
    "                # Evaluate the estimator on the test set\n",
    "                score = self.scorer(self.estimator, X_test[selected_features], y_test)\n",
    "                \n",
    "                outer_loop_log[f'fold_{i}'] = {}\n",
    "                outer_loop_log[f'fold_{i}']['test_score'] = score\n",
    "                outer_loop_log[f'fold_{i}']['inner_cv_score'] = inner_score\n",
    "                outer_loop_log[f'fold_{i}']['best_features'] = selected_features\n",
    "                test_scores.append(score)\n",
    "                selected_features_all_folds.append(selected_features)\n",
    "\n",
    "            best_feature_set = MLUtils.get_best_fold(outer_loop_log, 'test_score', 'best_features')\n",
    "            self.loop_log = outer_loop_log\n",
    "            self.best_set = best_feature_set\n",
    "            self.score_best = max(test_scores)\n",
    "            self.score_std = np.std(test_scores)\n",
    "\n",
    "        return self"
   ]
  },
  {
   "cell_type": "code",
   "execution_count": 5,
   "metadata": {},
   "outputs": [
    {
     "name": "stdout",
     "output_type": "stream",
     "text": [
      "The best score is 0.9980347199475925, and the std is 0.013116190392169654\n",
      "['mean radius', 'mean texture', 'mean perimeter', 'mean area', 'mean smoothness', 'mean compactness', 'mean concavity', 'mean concave points', 'mean symmetry', 'mean fractal dimension', 'radius error', 'texture error', 'perimeter error', 'area error', 'smoothness error', 'compactness error', 'concavity error', 'concave points error', 'symmetry error', 'fractal dimension error', 'worst radius', 'worst texture', 'worst perimeter', 'worst area', 'worst smoothness', 'worst compactness', 'worst concavity', 'worst concave points', 'worst symmetry', 'worst fractal dimension']\n"
     ]
    }
   ],
   "source": [
    "# Example usage\n",
    "# Create a sample dataset for demonstration\n",
    "data = load_breast_cancer()\n",
    "X = pd.DataFrame(data.data, columns = data.feature_names)\n",
    "y = data.target\n",
    "\n",
    "# Define the estimator\n",
    "estimator=lgb.LGBMClassifier(verbose=-1)\n",
    "# Define outer and inner cross-validation strategies\n",
    "cv = StratifiedKFold(n_splits=5, shuffle=True, random_state=42)\n",
    "# Define the scorer\n",
    "custom_scorer = make_scorer(MLUtils.gini_scorer, greater_is_better=True, needs_proba=True)\n",
    "# Initialize the FeatureSelector with an estimator, scoring and cv option\n",
    "feature_selector = FeatureSelector(estimator=estimator, \n",
    "                                    min_features_to_select=2,\n",
    "                                    step = 1,\n",
    "                                    scorer = custom_scorer,\n",
    "                                    cv = cv)\n",
    "\n",
    "# Perform nested cross-validation with above configuration\n",
    "custom_optimizer = NestedCVOptimizer(estimator = estimator, \n",
    "                                cv=cv,\n",
    "                                task='feature_selection',\n",
    "                                optimizer = feature_selector,\n",
    "                                scorer = custom_scorer\n",
    "                              )\n",
    "\n",
    "best_features = custom_optimizer.optimize(X,y)\n",
    "print(best_features)\n",
    "# best_features = nested_cv_feature_selection(X, y, estimator, feature_selector, \n",
    "#                                                             scorer = custom_scorer,\n",
    "#                                                             cv_outer = cv_outer)"
   ]
  }
 ],
 "metadata": {
  "kernelspec": {
   "display_name": "py38-modelling",
   "language": "python",
   "name": "python3"
  },
  "language_info": {
   "codemirror_mode": {
    "name": "ipython",
    "version": 3
   },
   "file_extension": ".py",
   "mimetype": "text/x-python",
   "name": "python",
   "nbconvert_exporter": "python",
   "pygments_lexer": "ipython3",
   "version": "3.8.15"
  }
 },
 "nbformat": 4,
 "nbformat_minor": 2
}
