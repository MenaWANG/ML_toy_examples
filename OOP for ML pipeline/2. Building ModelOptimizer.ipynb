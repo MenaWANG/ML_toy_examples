{
 "cells": [
  {
   "cell_type": "markdown",
   "metadata": {},
   "source": [
    "The `ModelOptimizer` should take any cv methods, custom scorer and optimization configurations. It then return the optimization results, which can be utilized to train the optimal `ModelPipeline` object to be saved for consumption.  \n",
    "\n",
    "The main optimizer it can leverage now are\n",
    "* FeatureSelector\n",
    "* HyperparamsTuner\n",
    "It also leverages the CustomTransformer for data preprocessing. \n",
    "\n",
    "The `ModelOptimizer` saves loads of info of the optimizing process for diagnostic purpose. In contrast, the `ModelPipeline` object should be light, with minimal info needed for consumption. "
   ]
  },
  {
   "cell_type": "code",
   "execution_count": 1,
   "metadata": {},
   "outputs": [],
   "source": [
    "import lightgbm as lgb\n",
    "from sklearn.metrics import make_scorer\n",
    "from sklearn.model_selection import StratifiedKFold\n",
    "from sklearn.datasets import load_breast_cancer\n",
    "from sklearn.feature_selection import RFECV\n",
    "from mlops_class import CustomTransformer,ModelPipeline, FeatureSelector, MLUtils\n",
    "import pandas as pd\n",
    "import numpy as np"
   ]
  },
  {
   "cell_type": "code",
   "execution_count": 2,
   "metadata": {},
   "outputs": [],
   "source": [
    "class ModelOptimizer:\n",
    "\n",
    "    def __init__(self, \n",
    "                 model_params, \n",
    "                 feature_selector_params,\n",
    "                 custom_transformer_params,\n",
    "                 scorer=None,\n",
    "                 cv=StratifiedKFold(n_splits=5, shuffle=True, random_state=42)):\n",
    "\n",
    "        self.model_params = model_params\n",
    "        self.feature_selector_params = feature_selector_params\n",
    "        self.custom_transformer_params = custom_transformer_params\n",
    "        self.cv = cv\n",
    "        self.scorer = scorer\n",
    "    \n",
    "    \n",
    "    def optimize(self, task, X, y):\n",
    "        \"\"\"Optimize based on the CV Optimizer configerations\n",
    "\n",
    "        Args:\n",
    "            tasK: the optimizing task, such as feature_selection or hyperparams_tuning\n",
    "            X (df): the features\n",
    "            y (array): the target\n",
    "\n",
    "        Returns:\n",
    "            best_set: best_feature_set for FeatureSelector, best_hyperms_set for HypermsTuner\n",
    "        \"\"\"\n",
    "        \n",
    "        custom_transformer = CustomTransformer(**self.custom_transformer_params)\n",
    "        estimator = self.model_params['estimator']\n",
    "        scorer = self.scorer\n",
    "        \n",
    "        if task == 'feature_selection':\n",
    "            selected_features_all_folds = []\n",
    "            outer_loop_log = {}\n",
    "            test_scores = []\n",
    "            self.feature_selectors = []\n",
    "            \n",
    "            \n",
    "            for i, (train_idx, test_idx) in enumerate(self.cv.split(X,y)):\n",
    "\n",
    "                #LEARNING: define feature_selector within this loop, otherwise the feature_selectors \n",
    "                # will only be able to capture the last feature_selector \n",
    "                feature_selector = FeatureSelector(\n",
    "                    estimator = estimator,\n",
    "                    cv = self.cv,\n",
    "                    scorer = self.scorer,\n",
    "                    **self.feature_selector_params\n",
    "                )                \n",
    "                X_train, X_test = X.iloc[train_idx], X.iloc[test_idx]\n",
    "                y_train, y_test = y[train_idx], y[test_idx]\n",
    "                \n",
    "                X_train_transformed = custom_transformer.fit_transform(X_train)\n",
    "                X_test_transformed = custom_transformer.transform(X_test)                \n",
    "                # Perform feature selection using the inner cross-validation\n",
    "                selected_features, inner_score = feature_selector.select_features(X_train_transformed, y_train)\n",
    "                # Train the estimator on the selected features\n",
    "                estimator.fit(X_train_transformed[selected_features], y_train)\n",
    "                # Evaluate the estimator on the test set\n",
    "                score = self.scorer(estimator, X_test_transformed[selected_features], y_test)\n",
    "                \n",
    "                outer_loop_log[f'fold_{i}'] = {}\n",
    "                outer_loop_log[f'fold_{i}']['test_score'] = score\n",
    "                outer_loop_log[f'fold_{i}']['inner_cv_score'] = inner_score\n",
    "                outer_loop_log[f'fold_{i}']['best_features'] = selected_features\n",
    "                print(f\"max for inner cv: {feature_selector.rfecv.cv_results_['mean_test_score'].max():3f}\")\n",
    "                self.feature_selectors.append(feature_selector)\n",
    "                test_scores.append(score)\n",
    "                selected_features_all_folds.append(selected_features)\n",
    "                # print(f'fold {i} test score is {score:.3} achieved by {len(selected_features)} features')\n",
    "                \n",
    "            # save the best feature set with the highest test_score\n",
    "            best_set = MLUtils.get_best_fold(outer_loop_log, 'test_score', 'best_features')\n",
    "            # save the feature_selector that return the highest test_score\n",
    "            # print(f\"the fold that achieve the best test score is {test_scores.index(max(test_scores))}\")\n",
    "            self.feature_selector = self.feature_selectors[test_scores.index(max(test_scores))]\n",
    "            # loop_log = outer_loop_log\n",
    "            # score_best = max(test_scores)\n",
    "            # score_std = np.std(test_scores)        \n",
    "        \n",
    "        if task == 'hyperparams_tuning':\n",
    "            pass\n",
    "            #TODO utlize hyperparams_tuner to get the best hyperparams set\n",
    "            # we can either call it once the best feature set is identified based on default hyperparams set\n",
    "            # or for each hyperparams set get the best feature set\n",
    "\n",
    "        return best_set"
   ]
  },
  {
   "cell_type": "markdown",
   "metadata": {},
   "source": [
    "# Config the ModelOptimizer"
   ]
  },
  {
   "cell_type": "code",
   "execution_count": 3,
   "metadata": {},
   "outputs": [],
   "source": [
    "# Example usage\n",
    "# Create a sample dataset for demonstration\n",
    "data = load_breast_cancer()\n",
    "X = pd.DataFrame(data.data, columns = data.feature_names)\n",
    "y = data.target"
   ]
  },
  {
   "cell_type": "code",
   "execution_count": 4,
   "metadata": {},
   "outputs": [],
   "source": [
    "# Configure the optimizer\n",
    "# Define outer and inner cross-validation strategies\n",
    "cv = StratifiedKFold(n_splits=5, shuffle=True, random_state=42)\n",
    "custom_scorer = make_scorer(MLUtils.gini_scorer, greater_is_better=True, needs_proba=True)\n",
    "custom_transformer_params = {\n",
    "    'bin_features': [],\n",
    "    'num_features': X.select_dtypes(include = 'number').columns.tolist(),\n",
    "    'cat_features': X.select_dtypes(exclude = 'number').columns.tolist()\n",
    "    }\n",
    "model_params = {\n",
    "    'estimator': lgb.LGBMClassifier(verbose=-1),\n",
    "    'hyperparams_space': {}\n",
    "}\n",
    "feature_selector_params = {\n",
    "    'min_features_to_select': 5\n",
    "}\n"
   ]
  },
  {
   "cell_type": "markdown",
   "metadata": {},
   "source": [
    "## Feature Selection"
   ]
  },
  {
   "cell_type": "code",
   "execution_count": 5,
   "metadata": {},
   "outputs": [],
   "source": [
    "custom_optimizer = ModelOptimizer(cv=cv,\n",
    "                                  scorer = custom_scorer,\n",
    "                                  model_params=model_params,\n",
    "                                  feature_selector_params=feature_selector_params,\n",
    "                                  custom_transformer_params=custom_transformer_params\n",
    "                              )"
   ]
  },
  {
   "cell_type": "code",
   "execution_count": 6,
   "metadata": {},
   "outputs": [
    {
     "name": "stdout",
     "output_type": "stream",
     "text": [
      "max for inner cv: 0.978067\n",
      "max for inner cv: 0.986354\n",
      "max for inner cv: 0.991744\n",
      "max for inner cv: 0.990093\n",
      "max for inner cv: 0.979780\n",
      "The best score is 0.999, and the std is 0.0101\n",
      "Among all 30 features, 26 features were selected, which include ['mean radius', 'mean texture', 'mean perimeter', 'mean smoothness', 'mean compactness', 'mean concavity', 'mean concave points', 'mean symmetry', 'mean fractal dimension', 'radius error', 'texture error', 'area error', 'smoothness error', 'compactness error', 'concave points error', 'symmetry error', 'fractal dimension error', 'worst radius', 'worst texture', 'worst perimeter', 'worst area', 'worst smoothness', 'worst compactness', 'worst concavity', 'worst concave points', 'worst symmetry']\n"
     ]
    }
   ],
   "source": [
    "best_features = custom_optimizer.optimize(task='feature_selection', X=X,y=y)\n",
    "print(f\"Among all {X.shape[1]} features, {len(best_features)} features were selected, which include {best_features}\")"
   ]
  },
  {
   "cell_type": "code",
   "execution_count": 7,
   "metadata": {},
   "outputs": [
    {
     "name": "stdout",
     "output_type": "stream",
     "text": [
      "the max test score is 0.978 achieved with 26 features\n"
     ]
    },
    {
     "data": {
      "image/png": "[encoded data removed]",
      "text/plain": [
       "<Figure size 640x480 with 1 Axes>"
      ]
     },
     "metadata": {},
     "output_type": "display_data"
    }
   ],
   "source": [
    "custom_optimizer.feature_selector.feature_score_plot()"
   ]
  },
  {
   "cell_type": "code",
   "execution_count": 8,
   "metadata": {},
   "outputs": [
    {
     "data": {
      "text/plain": [
       "array([0.98263407, 0.97932393, 0.9801547 , 0.9799483 , 0.97870991,\n",
       "       0.98345449, 0.98387246, 0.98469288, 0.98222645, 0.98408145,\n",
       "       0.98304687, 0.98429561, 0.98367383, 0.98594938, 0.98470582,\n",
       "       0.98615061, 0.98635442, 0.98573005, 0.98449942, 0.98408403,\n",
       "       0.98263925, 0.98449683, 0.98429561, 0.98429561, 0.98491222,\n",
       "       0.98243285])"
      ]
     },
     "execution_count": 8,
     "metadata": {},
     "output_type": "execute_result"
    }
   ],
   "source": [
    "# the ModelOptimizer object contains information of feature_selector in all folds\n",
    "custom_optimizer.feature_selectors[1].rfecv.cv_results_[\"mean_test_score\"]"
   ]
  }
 ],
 "metadata": {
  "kernelspec": {
   "display_name": "py38-modelling",
   "language": "python",
   "name": "python3"
  },
  "language_info": {
   "codemirror_mode": {
    "name": "ipython",
    "version": 3
   },
   "file_extension": ".py",
   "mimetype": "text/x-python",
   "name": "python",
   "nbconvert_exporter": "python",
   "pygments_lexer": "ipython3",
   "version": "3.8.15"
  }
 },
 "nbformat": 4,
 "nbformat_minor": 2
}
