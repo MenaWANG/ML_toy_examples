{
 "cells": [
  {
   "attachments": {},
   "cell_type": "markdown",
   "metadata": {},
   "source": [
    "# Introduction\n",
    "\n",
    "Use this simple notebook to explore different functions that define search spaces. "
   ]
  },
  {
   "cell_type": "code",
   "execution_count": 1,
   "metadata": {},
   "outputs": [],
   "source": [
    "from hyperopt import hp, fmin, tpe, rand, Trials, STATUS_OK, pyll\n",
    "import matplotlib.pyplot as plt\n",
    "import numpy as np"
   ]
  },
  {
   "cell_type": "code",
   "execution_count": 2,
   "metadata": {},
   "outputs": [
    {
     "name": "stdout",
     "output_type": "stream",
     "text": [
      "  0%|          | 0/500 [00:00<?, ?trial/s, best loss=?]"
     ]
    },
    {
     "name": "stdout",
     "output_type": "stream",
     "text": [
      "100%|██████████| 500/500 [00:00<00:00, 1216.16trial/s, best loss: 0.00677646313728146] \n"
     ]
    }
   ],
   "source": [
    "# Define a simple objective function. For a machine learning model, this will relate to the metrics we want to optimize\n",
    "def f(x):\n",
    "    return {'loss': x,\n",
    "            'status': STATUS_OK}\n",
    "\n",
    "# Run hyperopt tunning with random search\n",
    "trials_rand = Trials()\n",
    "result_rand = fmin(\n",
    "    fn = f,                              # objective function\n",
    "    space = hp.loguniform('x', -5, 3),   # parameter space\n",
    "    algo = rand.suggest,                 # random search algorithm\n",
    "    max_evals = 500,                     # no. of evaluations\n",
    "    trials = trials_rand                 # trial object that keeps track of the results\n",
    ")\n",
    "\n",
    "x = trials_rand.vals['x']"
   ]
  },
  {
   "cell_type": "code",
   "execution_count": 3,
   "metadata": {},
   "outputs": [
    {
     "name": "stdout",
     "output_type": "stream",
     "text": [
      "Mean: 2.5363420822009384\n",
      "Minimum: 0.00677646313728146\n",
      "25% Quantile: 0.04901572766828281\n",
      "Median: 0.461256117811926\n",
      "75% Quantile: 3.29390390350612\n",
      "Maximum: 20.073204423457675\n"
     ]
    }
   ],
   "source": [
    "# Calculate basic statistics\n",
    "mean = np.mean(x)\n",
    "minimum = np.min(x)\n",
    "q25 = np.percentile(x, 25)\n",
    "median = np.median(x)\n",
    "q75 = np.percentile(x, 75)\n",
    "maximum = np.max(x)\n",
    "\n",
    "# Print the calculated statistics\n",
    "print(\"Mean:\", mean)\n",
    "print(\"Minimum:\", minimum)\n",
    "print(\"25% Quantile:\", q25)\n",
    "print(\"Median:\", median)\n",
    "print(\"75% Quantile:\", q75)\n",
    "print(\"Maximum:\", maximum)"
   ]
  },
  {
   "cell_type": "code",
   "execution_count": 4,
   "metadata": {},
   "outputs": [
    {
     "data": {
      "image/png": "[encoded data removed]",
      "text/plain": [
       "<Figure size 640x480 with 1 Axes>"
      ]
     },
     "metadata": {},
     "output_type": "display_data"
    }
   ],
   "source": [
    "# extract and plot the trials from the trails object\n",
    "_, _, _ = plt.hist(x, bins=200, color='skyblue')"
   ]
  }
 ],
 "metadata": {
  "kernelspec": {
   "display_name": "my-env",
   "language": "python",
   "name": "my-env"
  },
  "language_info": {
   "codemirror_mode": {
    "name": "ipython",
    "version": 3
   },
   "file_extension": ".py",
   "mimetype": "text/x-python",
   "name": "python",
   "nbconvert_exporter": "python",
   "pygments_lexer": "ipython3",
   "version": "3.8.15"
  },
  "orig_nbformat": 4
 },
 "nbformat": 4,
 "nbformat_minor": 2
}
