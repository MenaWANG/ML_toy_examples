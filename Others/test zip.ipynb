{
 "cells": [
  {
   "cell_type": "markdown",
   "metadata": {},
   "source": [
    "### Basic Usage"
   ]
  },
  {
   "cell_type": "code",
   "execution_count": 1,
   "metadata": {},
   "outputs": [
    {
     "name": "stdout",
     "output_type": "stream",
     "text": [
      "[(1, 'A'), (2, 'B'), (3, 'C')]\n"
     ]
    }
   ],
   "source": [
    "numbers = [1, 2, 3]\n",
    "letters = ['A', 'B', 'C']\n",
    "\n",
    "# Zip the two lists\n",
    "zipped = zip(numbers, letters)\n",
    "\n",
    "# Convert the zip object to a list of tuples\n",
    "result = list(zipped)\n",
    "print(result) "
   ]
  },
  {
   "cell_type": "markdown",
   "metadata": {},
   "source": [
    "### Unpacking Zip"
   ]
  },
  {
   "cell_type": "code",
   "execution_count": 2,
   "metadata": {},
   "outputs": [
    {
     "name": "stdout",
     "output_type": "stream",
     "text": [
      "Alice: 95\n",
      "Bob: 84\n",
      "Charlie: 78\n"
     ]
    }
   ],
   "source": [
    "names = ['Alice', 'Bob', 'Charlie']\n",
    "scores = [95, 84, 78]\n",
    "\n",
    "# Zip the two lists and unpack the tuples using a loop\n",
    "for name, score in zip(names, scores):\n",
    "    print(f\"{name}: {score}\")"
   ]
  },
  {
   "cell_type": "markdown",
   "metadata": {},
   "source": [
    "### Zip with multiple iterables"
   ]
  },
  {
   "cell_type": "code",
   "execution_count": 11,
   "metadata": {},
   "outputs": [
    {
     "name": "stdout",
     "output_type": "stream",
     "text": [
      "[(1, 'A', 'apple'), (2, 'B', 'banana'), (3, 'C', 'cherry')]\n"
     ]
    }
   ],
   "source": [
    "list1 = [1, 2, 3]\n",
    "list2 = ['A', 'B', 'C']\n",
    "list3 = ['apple', 'banana', 'cherry']\n",
    "\n",
    "# Zip three lists together\n",
    "zipped = zip(list1, list2, list3)\n",
    "\n",
    "# Convert the zip object to a list of tuples\n",
    "result = list(zipped)\n",
    "print(result)  "
   ]
  },
  {
   "cell_type": "markdown",
   "metadata": {},
   "source": [
    "### Using Zip to transpose a Matrix"
   ]
  },
  {
   "cell_type": "code",
   "execution_count": 10,
   "metadata": {},
   "outputs": [
    {
     "name": "stdout",
     "output_type": "stream",
     "text": [
      "[(1, 4, 7), (2, 5, 8), (3, 6, 9)]\n"
     ]
    }
   ],
   "source": [
    "matrix = [\n",
    "    [1, 2, 3],\n",
    "    [4, 5, 6],\n",
    "    [7, 8, 9]\n",
    "]\n",
    "\n",
    "# Transpose the matrix using zip\n",
    "transposed = list(zip(*matrix))\n",
    "print(transposed)  "
   ]
  },
  {
   "cell_type": "markdown",
   "metadata": {},
   "source": [
    "### Using Zip to create a combined list\n",
    "\n",
    "In `OOP for data preprocessing`, we need to created new column names for the encoded column, and this is how it was done using `zip`. "
   ]
  },
  {
   "cell_type": "code",
   "execution_count": 9,
   "metadata": {},
   "outputs": [
    {
     "name": "stdout",
     "output_type": "stream",
     "text": [
      "['colors_red', 'colors_blue', 'size_big', 'size_small']\n"
     ]
    }
   ],
   "source": [
    "cols = ['colors', 'size']\n",
    "values = [['red', 'blue'], ['big', 'small']]\n",
    "\n",
    "column_names = [f'{col}_{value}' for col, value_list in zip(cols, values) for value in value_list]\n",
    "print(column_names)\n"
   ]
  }
 ],
 "metadata": {
  "kernelspec": {
   "display_name": "my-env",
   "language": "python",
   "name": "my-env"
  },
  "language_info": {
   "codemirror_mode": {
    "name": "ipython",
    "version": 3
   },
   "file_extension": ".py",
   "mimetype": "text/x-python",
   "name": "python",
   "nbconvert_exporter": "python",
   "pygments_lexer": "ipython3",
   "version": "3.8.15"
  },
  "orig_nbformat": 4
 },
 "nbformat": 4,
 "nbformat_minor": 2
}
