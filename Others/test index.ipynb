{
 "cells": [
  {
   "cell_type": "code",
   "execution_count": 217,
   "metadata": {},
   "outputs": [],
   "source": [
    "import pandas as pd\n",
    "\n",
    "# First dataframe\n",
    "data1 = {'C1': [10, 20, 30, 40, 50, 60, 70, 80, 90, 100],\n",
    "         'C2': ['A', 'B', 'C', 'D', 'E', 'F', 'G', 'H', 'I', 'J']}\n",
    "df = pd.DataFrame(data1, index=range(1, 11))\n",
    "\n",
    "# Second dataframe\n",
    "data2 = {'C3': ['a', 'e']}\n",
    "df2 = pd.DataFrame(data2, index=[1, 5])\n",
    "df2_saved_index = df2.index\n"
   ]
  },
  {
   "attachments": {},
   "cell_type": "markdown",
   "metadata": {},
   "source": [
    "## The Amazing Index in Pandas"
   ]
  },
  {
   "attachments": {},
   "cell_type": "markdown",
   "metadata": {},
   "source": [
    "Here we have two data frames. How do we combine them neatly with the help of index?  \n",
    "\n",
    "1. `merge`: and explicitly set left_index and right_index to be True\n",
    "2. `concat`: index automatically matched\n",
    "    * What if I reorder df2, would it mess things up? 😝\n",
    "    * No it would be fine 💃🏻\n",
    "3. Just assign the values directly, and the assignment is done by index!😎\n",
    "\n",
    "At the end there are also two bonus sections\n",
    "* What will happen if we use the above methods on two dataframes with no matching index? (spoiler alert: things are still neat 🥂)\n",
    "* Finally, are there anything we can do to mess things up? 🤪 Yes, pls see at the end."
   ]
  },
  {
   "attachments": {},
   "cell_type": "markdown",
   "metadata": {},
   "source": [
    "### 1. Merge"
   ]
  },
  {
   "cell_type": "code",
   "execution_count": 218,
   "metadata": {},
   "outputs": [
    {
     "name": "stdout",
     "output_type": "stream",
     "text": [
      "  C3  C1 C2\n",
      "1  a  10  A\n",
      "5  e  50  E\n"
     ]
    }
   ],
   "source": [
    "# Merge the two dataframes, explicitly based on the index\n",
    "merged_df = df2.merge(df, left_index=True, right_index=True)\n",
    "\n",
    "# Display the merged dataframe\n",
    "print(merged_df)"
   ]
  },
  {
   "attachments": {},
   "cell_type": "markdown",
   "metadata": {},
   "source": [
    "### 2. Concat"
   ]
  },
  {
   "cell_type": "code",
   "execution_count": 219,
   "metadata": {},
   "outputs": [
    {
     "name": "stdout",
     "output_type": "stream",
     "text": [
      "  C3  C1 C2\n",
      "1  a  10  A\n",
      "5  e  50  E\n"
     ]
    }
   ],
   "source": [
    "# Didn't specify but notice that the rows were matched by index automatically\n",
    "concatenated_df = pd.concat([df2, df], axis=1, join='inner')\n",
    "print(concatenated_df)"
   ]
  },
  {
   "cell_type": "code",
   "execution_count": 220,
   "metadata": {},
   "outputs": [
    {
     "name": "stdout",
     "output_type": "stream",
     "text": [
      "  C3\n",
      "5  e\n",
      "1  a\n"
     ]
    }
   ],
   "source": [
    "# reorder df2, but notice the index is unchanged\n",
    "df2.sort_values('C3', ascending = False, inplace = True)\n",
    "print(df2)\n"
   ]
  },
  {
   "cell_type": "code",
   "execution_count": 221,
   "metadata": {},
   "outputs": [
    {
     "data": {
      "text/html": [
       "<div>\n",
       "<style scoped>\n",
       "    .dataframe tbody tr th:only-of-type {\n",
       "        vertical-align: middle;\n",
       "    }\n",
       "\n",
       "    .dataframe tbody tr th {\n",
       "        vertical-align: top;\n",
       "    }\n",
       "\n",
       "    .dataframe thead th {\n",
       "        text-align: right;\n",
       "    }\n",
       "</style>\n",
       "<table border=\"1\" class=\"dataframe\">\n",
       "  <thead>\n",
       "    <tr style=\"text-align: right;\">\n",
       "      <th></th>\n",
       "      <th>C3</th>\n",
       "      <th>C1</th>\n",
       "      <th>C2</th>\n",
       "    </tr>\n",
       "  </thead>\n",
       "  <tbody>\n",
       "    <tr>\n",
       "      <th>5</th>\n",
       "      <td>e</td>\n",
       "      <td>50</td>\n",
       "      <td>E</td>\n",
       "    </tr>\n",
       "    <tr>\n",
       "      <th>1</th>\n",
       "      <td>a</td>\n",
       "      <td>10</td>\n",
       "      <td>A</td>\n",
       "    </tr>\n",
       "  </tbody>\n",
       "</table>\n",
       "</div>"
      ],
      "text/plain": [
       "  C3  C1 C2\n",
       "5  e  50  E\n",
       "1  a  10  A"
      ]
     },
     "execution_count": 221,
     "metadata": {},
     "output_type": "execute_result"
    }
   ],
   "source": [
    "pd.concat([df2, df], axis = 1, join = 'inner')"
   ]
  },
  {
   "attachments": {},
   "cell_type": "markdown",
   "metadata": {},
   "source": [
    "## 3. Assign directly"
   ]
  },
  {
   "cell_type": "code",
   "execution_count": 222,
   "metadata": {},
   "outputs": [
    {
     "name": "stdout",
     "output_type": "stream",
     "text": [
      "  C3  C1 C2\n",
      "5  e  50  E\n",
      "1  a  10  A\n"
     ]
    }
   ],
   "source": [
    "# Even if we simply assign the values like below, the assignment were based on index\n",
    "df2['C1'] = df['C1']\n",
    "df2['C2'] = df['C2']\n",
    "\n",
    "print(df2)\n"
   ]
  },
  {
   "attachments": {},
   "cell_type": "markdown",
   "metadata": {},
   "source": [
    "## Mess Things Up\n",
    "\n",
    "So even if we reorder the dataframe, the index will stay in place and help with matching. What could we do to mess things up?\n",
    "\n",
    "Remember df2 has been reordered by C3 above, but the index are still the original index? What if we use `set_index()` and feed a saved index into it?"
   ]
  },
  {
   "cell_type": "code",
   "execution_count": 223,
   "metadata": {},
   "outputs": [
    {
     "data": {
      "text/html": [
       "<div>\n",
       "<style scoped>\n",
       "    .dataframe tbody tr th:only-of-type {\n",
       "        vertical-align: middle;\n",
       "    }\n",
       "\n",
       "    .dataframe tbody tr th {\n",
       "        vertical-align: top;\n",
       "    }\n",
       "\n",
       "    .dataframe thead th {\n",
       "        text-align: right;\n",
       "    }\n",
       "</style>\n",
       "<table border=\"1\" class=\"dataframe\">\n",
       "  <thead>\n",
       "    <tr style=\"text-align: right;\">\n",
       "      <th></th>\n",
       "      <th>C3</th>\n",
       "      <th>C1</th>\n",
       "      <th>C2</th>\n",
       "    </tr>\n",
       "  </thead>\n",
       "  <tbody>\n",
       "    <tr>\n",
       "      <th>1</th>\n",
       "      <td>e</td>\n",
       "      <td>50</td>\n",
       "      <td>E</td>\n",
       "    </tr>\n",
       "    <tr>\n",
       "      <th>5</th>\n",
       "      <td>a</td>\n",
       "      <td>10</td>\n",
       "      <td>A</td>\n",
       "    </tr>\n",
       "  </tbody>\n",
       "</table>\n",
       "</div>"
      ],
      "text/plain": [
       "  C3  C1 C2\n",
       "1  e  50  E\n",
       "5  a  10  A"
      ]
     },
     "execution_count": 223,
     "metadata": {},
     "output_type": "execute_result"
    }
   ],
   "source": [
    "df2.set_index(df2_saved_index)"
   ]
  },
  {
   "attachments": {},
   "cell_type": "markdown",
   "metadata": {},
   "source": [
    "Now finally the index are no longer the original one but has been reset. If we do concat again now, it will be done using the newly assigned index and no longer consistent with the original. Pls see below. "
   ]
  },
  {
   "cell_type": "code",
   "execution_count": 224,
   "metadata": {},
   "outputs": [
    {
     "data": {
      "text/html": [
       "<div>\n",
       "<style scoped>\n",
       "    .dataframe tbody tr th:only-of-type {\n",
       "        vertical-align: middle;\n",
       "    }\n",
       "\n",
       "    .dataframe tbody tr th {\n",
       "        vertical-align: top;\n",
       "    }\n",
       "\n",
       "    .dataframe thead th {\n",
       "        text-align: right;\n",
       "    }\n",
       "</style>\n",
       "<table border=\"1\" class=\"dataframe\">\n",
       "  <thead>\n",
       "    <tr style=\"text-align: right;\">\n",
       "      <th></th>\n",
       "      <th>C3</th>\n",
       "      <th>C1</th>\n",
       "      <th>C2</th>\n",
       "      <th>C1</th>\n",
       "      <th>C2</th>\n",
       "    </tr>\n",
       "  </thead>\n",
       "  <tbody>\n",
       "    <tr>\n",
       "      <th>1</th>\n",
       "      <td>e</td>\n",
       "      <td>50</td>\n",
       "      <td>E</td>\n",
       "      <td>10</td>\n",
       "      <td>A</td>\n",
       "    </tr>\n",
       "    <tr>\n",
       "      <th>5</th>\n",
       "      <td>a</td>\n",
       "      <td>10</td>\n",
       "      <td>A</td>\n",
       "      <td>50</td>\n",
       "      <td>E</td>\n",
       "    </tr>\n",
       "  </tbody>\n",
       "</table>\n",
       "</div>"
      ],
      "text/plain": [
       "  C3  C1 C2  C1 C2\n",
       "1  e  50  E  10  A\n",
       "5  a  10  A  50  E"
      ]
     },
     "execution_count": 224,
     "metadata": {},
     "output_type": "execute_result"
    }
   ],
   "source": [
    "pd.concat([df2.set_index(df2_saved_index), df], axis = 1, join = 'inner')"
   ]
  },
  {
   "attachments": {},
   "cell_type": "markdown",
   "metadata": {},
   "source": [
    "# What if the index are not matched?"
   ]
  },
  {
   "cell_type": "code",
   "execution_count": 225,
   "metadata": {},
   "outputs": [
    {
     "data": {
      "text/plain": [
       "RangeIndex(start=1, stop=11, step=1)"
      ]
     },
     "execution_count": 225,
     "metadata": {},
     "output_type": "execute_result"
    }
   ],
   "source": [
    "# recall the df has index ranging from 1 to 11\n",
    "df.index"
   ]
  },
  {
   "cell_type": "code",
   "execution_count": 226,
   "metadata": {},
   "outputs": [],
   "source": [
    "# create a 3rd dataframe with index 21 and 25\n",
    "data3 = {'C3': ['aa', 'ee']}\n",
    "df3 = pd.DataFrame(data3, index=[21, 25])\n"
   ]
  },
  {
   "cell_type": "code",
   "execution_count": 227,
   "metadata": {},
   "outputs": [
    {
     "data": {
      "text/html": [
       "<div>\n",
       "<style scoped>\n",
       "    .dataframe tbody tr th:only-of-type {\n",
       "        vertical-align: middle;\n",
       "    }\n",
       "\n",
       "    .dataframe tbody tr th {\n",
       "        vertical-align: top;\n",
       "    }\n",
       "\n",
       "    .dataframe thead th {\n",
       "        text-align: right;\n",
       "    }\n",
       "</style>\n",
       "<table border=\"1\" class=\"dataframe\">\n",
       "  <thead>\n",
       "    <tr style=\"text-align: right;\">\n",
       "      <th></th>\n",
       "      <th>C1</th>\n",
       "      <th>C2</th>\n",
       "      <th>C3</th>\n",
       "    </tr>\n",
       "  </thead>\n",
       "  <tbody>\n",
       "  </tbody>\n",
       "</table>\n",
       "</div>"
      ],
      "text/plain": [
       "Empty DataFrame\n",
       "Columns: [C1, C2, C3]\n",
       "Index: []"
      ]
     },
     "execution_count": 227,
     "metadata": {},
     "output_type": "execute_result"
    }
   ],
   "source": [
    "# merge result in an empty dataframe as there is no matching index\n",
    "df.merge(df3, right_index=True, left_index=True)"
   ]
  },
  {
   "cell_type": "code",
   "execution_count": 228,
   "metadata": {},
   "outputs": [
    {
     "data": {
      "text/html": [
       "<div>\n",
       "<style scoped>\n",
       "    .dataframe tbody tr th:only-of-type {\n",
       "        vertical-align: middle;\n",
       "    }\n",
       "\n",
       "    .dataframe tbody tr th {\n",
       "        vertical-align: top;\n",
       "    }\n",
       "\n",
       "    .dataframe thead th {\n",
       "        text-align: right;\n",
       "    }\n",
       "</style>\n",
       "<table border=\"1\" class=\"dataframe\">\n",
       "  <thead>\n",
       "    <tr style=\"text-align: right;\">\n",
       "      <th></th>\n",
       "      <th>C1</th>\n",
       "      <th>C2</th>\n",
       "      <th>C3</th>\n",
       "    </tr>\n",
       "  </thead>\n",
       "  <tbody>\n",
       "    <tr>\n",
       "      <th>1</th>\n",
       "      <td>10.0</td>\n",
       "      <td>A</td>\n",
       "      <td>NaN</td>\n",
       "    </tr>\n",
       "    <tr>\n",
       "      <th>2</th>\n",
       "      <td>20.0</td>\n",
       "      <td>B</td>\n",
       "      <td>NaN</td>\n",
       "    </tr>\n",
       "    <tr>\n",
       "      <th>3</th>\n",
       "      <td>30.0</td>\n",
       "      <td>C</td>\n",
       "      <td>NaN</td>\n",
       "    </tr>\n",
       "    <tr>\n",
       "      <th>4</th>\n",
       "      <td>40.0</td>\n",
       "      <td>D</td>\n",
       "      <td>NaN</td>\n",
       "    </tr>\n",
       "    <tr>\n",
       "      <th>5</th>\n",
       "      <td>50.0</td>\n",
       "      <td>E</td>\n",
       "      <td>NaN</td>\n",
       "    </tr>\n",
       "    <tr>\n",
       "      <th>6</th>\n",
       "      <td>60.0</td>\n",
       "      <td>F</td>\n",
       "      <td>NaN</td>\n",
       "    </tr>\n",
       "    <tr>\n",
       "      <th>7</th>\n",
       "      <td>70.0</td>\n",
       "      <td>G</td>\n",
       "      <td>NaN</td>\n",
       "    </tr>\n",
       "    <tr>\n",
       "      <th>8</th>\n",
       "      <td>80.0</td>\n",
       "      <td>H</td>\n",
       "      <td>NaN</td>\n",
       "    </tr>\n",
       "    <tr>\n",
       "      <th>9</th>\n",
       "      <td>90.0</td>\n",
       "      <td>I</td>\n",
       "      <td>NaN</td>\n",
       "    </tr>\n",
       "    <tr>\n",
       "      <th>10</th>\n",
       "      <td>100.0</td>\n",
       "      <td>J</td>\n",
       "      <td>NaN</td>\n",
       "    </tr>\n",
       "    <tr>\n",
       "      <th>21</th>\n",
       "      <td>NaN</td>\n",
       "      <td>NaN</td>\n",
       "      <td>aa</td>\n",
       "    </tr>\n",
       "    <tr>\n",
       "      <th>25</th>\n",
       "      <td>NaN</td>\n",
       "      <td>NaN</td>\n",
       "      <td>ee</td>\n",
       "    </tr>\n",
       "  </tbody>\n",
       "</table>\n",
       "</div>"
      ],
      "text/plain": [
       "       C1   C2   C3\n",
       "1    10.0    A  NaN\n",
       "2    20.0    B  NaN\n",
       "3    30.0    C  NaN\n",
       "4    40.0    D  NaN\n",
       "5    50.0    E  NaN\n",
       "6    60.0    F  NaN\n",
       "7    70.0    G  NaN\n",
       "8    80.0    H  NaN\n",
       "9    90.0    I  NaN\n",
       "10  100.0    J  NaN\n",
       "21    NaN  NaN   aa\n",
       "25    NaN  NaN   ee"
      ]
     },
     "execution_count": 228,
     "metadata": {},
     "output_type": "execute_result"
    }
   ],
   "source": [
    "# pd.concat will stack two dataframes by index\n",
    "pd.concat([df,df3], axis=1)"
   ]
  },
  {
   "cell_type": "code",
   "execution_count": 229,
   "metadata": {},
   "outputs": [
    {
     "data": {
      "text/html": [
       "<div>\n",
       "<style scoped>\n",
       "    .dataframe tbody tr th:only-of-type {\n",
       "        vertical-align: middle;\n",
       "    }\n",
       "\n",
       "    .dataframe tbody tr th {\n",
       "        vertical-align: top;\n",
       "    }\n",
       "\n",
       "    .dataframe thead th {\n",
       "        text-align: right;\n",
       "    }\n",
       "</style>\n",
       "<table border=\"1\" class=\"dataframe\">\n",
       "  <thead>\n",
       "    <tr style=\"text-align: right;\">\n",
       "      <th></th>\n",
       "      <th>C3</th>\n",
       "      <th>C2</th>\n",
       "    </tr>\n",
       "  </thead>\n",
       "  <tbody>\n",
       "    <tr>\n",
       "      <th>21</th>\n",
       "      <td>aa</td>\n",
       "      <td>NaN</td>\n",
       "    </tr>\n",
       "    <tr>\n",
       "      <th>25</th>\n",
       "      <td>ee</td>\n",
       "      <td>NaN</td>\n",
       "    </tr>\n",
       "  </tbody>\n",
       "</table>\n",
       "</div>"
      ],
      "text/plain": [
       "    C3   C2\n",
       "21  aa  NaN\n",
       "25  ee  NaN"
      ]
     },
     "execution_count": 229,
     "metadata": {},
     "output_type": "execute_result"
    }
   ],
   "source": [
    "# because there is no matching index, the assigned C2 column will have missing values\n",
    "df3['C2'] = df['C2']\n",
    "df3"
   ]
  },
  {
   "cell_type": "markdown",
   "metadata": {},
   "source": [
    "## Quick note: Filter by location\n",
    "\n",
    "The index is convenient in many ways. Say I can easily filter the target `y` and train_features `X` if I make sure the index is properly matched. "
   ]
  },
  {
   "cell_type": "code",
   "execution_count": 230,
   "metadata": {},
   "outputs": [
    {
     "name": "stdout",
     "output_type": "stream",
     "text": [
      "X:    value\n",
      "0      1\n",
      "1      2\n",
      "2      3\n",
      "3      4\n",
      "4      5\n",
      "y: 0     6\n",
      "1     7\n",
      "2     8\n",
      "3     9\n",
      "4    10\n",
      "dtype: int64\n"
     ]
    }
   ],
   "source": [
    "# create one pandas df and one series, note that the index is assigned automatically ranging from 0 to 4\n",
    "# or in many real-world cases, X and y would've come from a same df so sharing the index \n",
    "X = pd.DataFrame(range(1,6,1), columns=['value'])\n",
    "y = pd.Series(range(6,11,1))\n",
    "\n",
    "print(\"X:\", X)\n",
    "print(\"y:\", y)"
   ]
  },
  {
   "cell_type": "code",
   "execution_count": 231,
   "metadata": {},
   "outputs": [
    {
     "name": "stdout",
     "output_type": "stream",
     "text": [
      "   value\n",
      "3      4\n",
      "4      5\n"
     ]
    }
   ],
   "source": [
    "# natually we can filter X like below\n",
    "filtered_x = X[X['value']>3]\n",
    "print(filtered_x)"
   ]
  },
  {
   "cell_type": "code",
   "execution_count": 232,
   "metadata": {},
   "outputs": [
    {
     "name": "stdout",
     "output_type": "stream",
     "text": [
      "3     9\n",
      "4    10\n",
      "dtype: int64\n"
     ]
    }
   ],
   "source": [
    "# due to the shared index, we can filter y just the same 😎\n",
    "filtered_y = y[X['value']>3]\n",
    "print(filtered_y)"
   ]
  },
  {
   "cell_type": "code",
   "execution_count": 233,
   "metadata": {},
   "outputs": [
    {
     "name": "stdout",
     "output_type": "stream",
     "text": [
      "   col1  col2  target\n",
      "0   NaN   6.0       0\n",
      "1   2.0   7.0       1\n",
      "2   inf   8.0       0\n",
      "3   4.0   inf       1\n",
      "4   8.0   NaN       0\n",
      "rows location index with infinit values: [2 3]\n",
      "location index of infinite values (row, col)\n",
      "['(2, 0)', '(3, 1)']\n"
     ]
    }
   ],
   "source": [
    "import numpy as np\n",
    "# Create a dummy DataFrame with infinite values\n",
    "df = pd.DataFrame({'col1': [np.nan, 2, np.inf, 4, 8], \n",
    "                   'col2': [6, 7, 8, np.inf, np.nan], 'target': [0,1,0,1,0]})\n",
    "print(df)\n",
    "# like many real-world data, this df have a specified index so probably easier to use iloc to identify records\n",
    "df.index = list(range(1999, # start\n",
    "                      1999 + df.shape[0], # end\n",
    "                      1 # step\n",
    "                      ))\n",
    "\n",
    "X = df.drop('target', axis = 1)\n",
    "y = df['target']\n",
    "\n",
    "# find the coordinates (row, col) with infinite values \n",
    "infinite_indices = np.where(np.isinf(X))\n",
    "print('rows location index with infinit values:', infinite_indices[0])\n",
    "print('location index of infinite values (row, col)')\n",
    "print([f'({row}, {col})' for row, col in zip(infinite_indices[0], infinite_indices[1])])\n",
    "\n",
    "# get the location list of all the records/rows\n",
    "all = list(range(df.shape[0]))\n",
    "# use set to exclude those with infinite values, don't forget to turn it back to a list\n",
    "rows_without_infinit_values = list(set(all) - set(list(infinite_indices[0])))\n",
    "# the very cool thing is we can easily filter for both X and y this way so they are still neatly matched\n",
    "X2 = X.iloc[rows_without_infinit_values]\n",
    "y2 = y.iloc[rows_without_infinit_values]"
   ]
  },
  {
   "cell_type": "markdown",
   "metadata": {},
   "source": [
    "Alternatively we can get row and col indices respectively from `np.where()`. The row and col are very helpful for filtering. However if we want to manipulate or treat the specific value of interests (say replace with certain value) then the combined row-col-index is more useful. "
   ]
  },
  {
   "cell_type": "code",
   "execution_count": 234,
   "metadata": {},
   "outputs": [
    {
     "name": "stdout",
     "output_type": "stream",
     "text": [
      "null value row location index [0 4]\n",
      "null value col location index [0 1]\n"
     ]
    }
   ],
   "source": [
    "# row and col index directly\n",
    "row_index, col_index = np.where(df.isna())\n",
    "print('null value row location index', row_index)\n",
    "print('null value col location index', col_index)"
   ]
  },
  {
   "cell_type": "markdown",
   "metadata": {},
   "source": [
    "### A note of causion\n",
    "To ensure the index array works as expected, it is always prudent to do a quick test on a simple dummy dataset first. Because the indices produced are tuple of arrays representing row and column indices, and may not match the dimensions and alignment of the dataframe of interest. For example, if we use the index to replace values, we are in for a surprise! "
   ]
  },
  {
   "cell_type": "code",
   "execution_count": 235,
   "metadata": {},
   "outputs": [
    {
     "name": "stdout",
     "output_type": "stream",
     "text": [
      "      col1  col2  target\n",
      "1999   NaN   6.0       0\n",
      "2000   2.0   7.0       1\n",
      "2001   inf   8.0       0\n",
      "2002   4.0   inf       1\n",
      "2003   8.0   NaN       0\n"
     ]
    }
   ],
   "source": [
    "# recall this is what the original df looks like\n",
    "print(df)"
   ]
  },
  {
   "cell_type": "code",
   "execution_count": 236,
   "metadata": {},
   "outputs": [
    {
     "name": "stdout",
     "output_type": "stream",
     "text": [
      "      col1  col2\n",
      "1999   NaN   6.0\n",
      "2003   8.0   NaN\n",
      "      col1  col2\n",
      "2001   inf   8.0\n",
      "2002   4.0   inf\n"
     ]
    }
   ],
   "source": [
    "# null_index through `np.where` and `isna()`\n",
    "null_index = np.where(df.isna())\n",
    "print(df.iloc[null_index])\n",
    "# similarly print out indices with infinite values\n",
    "infinite_indices = np.where(np.isinf(df))\n",
    "print(df.iloc[infinite_indices])"
   ]
  },
  {
   "cell_type": "code",
   "execution_count": 237,
   "metadata": {},
   "outputs": [
    {
     "name": "stdout",
     "output_type": "stream",
     "text": [
      "          col1      col2  target\n",
      "1999   missing   missing       0\n",
      "2000       2.0       7.0       1\n",
      "2001  infinite       8.0       0\n",
      "2002       4.0  infinite       1\n",
      "2003   missing   missing       0\n"
     ]
    }
   ],
   "source": [
    "# try use the index in `iloc[]` to locate value of interests and replace/label them\n",
    "# we notice the iloc methods affected both the cols and rows involved\n",
    "# whereas the replace is more precise in identifying the exact location of interests\n",
    "df.iloc[null_index] = 'missing'\n",
    "df.replace([-np.inf, np.inf], 'infinite', inplace = True)\n",
    "print(df)"
   ]
  }
 ],
 "metadata": {
  "kernelspec": {
   "display_name": "py38-modelling",
   "language": "python",
   "name": "python3"
  },
  "language_info": {
   "codemirror_mode": {
    "name": "ipython",
    "version": 3
   },
   "file_extension": ".py",
   "mimetype": "text/x-python",
   "name": "python",
   "nbconvert_exporter": "python",
   "pygments_lexer": "ipython3",
   "version": "3.8.15"
  },
  "orig_nbformat": 4
 },
 "nbformat": 4,
 "nbformat_minor": 2
}
