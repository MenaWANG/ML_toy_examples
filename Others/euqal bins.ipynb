{
 "cells": [
  {
   "cell_type": "markdown",
   "metadata": {},
   "source": [
    "## Equal Size Kbin for numeric values\n",
    "\n",
    "Say we want to transform a numeric values into k bins with equal sizes. Two approach are tested here\n",
    "\n",
    "1. use `pd.cut`\n",
    "2. use `KBinsDiscretizer` from sklearn"
   ]
  },
  {
   "cell_type": "markdown",
   "metadata": {},
   "source": [
    "#### `pd.cut` approach\n",
    "\n",
    "With this approach\n",
    "\n",
    "* missing is handled natively\n",
    "* Easy to switch between string vs num bin labels\n",
    "    * string labels: easy to extract the eage info as label\n",
    "    * num labels: just order the bins in numerical orders"
   ]
  },
  {
   "cell_type": "code",
   "execution_count": 6,
   "metadata": {},
   "outputs": [],
   "source": [
    "# both approach can utilize this function to get labels\n",
    "def create_labels(cutoff_values):\n",
    "  \"\"\"Creates a list of labels based on a list of cutoff values.\n",
    "  \"\"\"\n",
    "\n",
    "  labels = []\n",
    "  labels.append(f\"[{cutoff_values[0]}, {cutoff_values[1]}]\")\n",
    "  for i in range(1, len(cutoff_values) - 1):\n",
    "    labels.append(f\"({cutoff_values[i]}, {cutoff_values[i + 1]}]\")\n",
    "  return labels\n"
   ]
  },
  {
   "cell_type": "code",
   "execution_count": 7,
   "metadata": {},
   "outputs": [
    {
     "name": "stdout",
     "output_type": "stream",
     "text": [
      "['[-inf, 2.75]', '(2.75, 5.5]', '(5.5, 8.25]', '(8.25, inf]']\n",
      "\n",
      "New Data:\n",
      "   value           bin\n",
      "0   -1.0  [-inf, 2.75]\n",
      "1    1.0  [-inf, 2.75]\n",
      "2    5.0   (2.75, 5.5]\n",
      "3    8.0   (5.5, 8.25]\n",
      "4   12.0   (8.25, inf]\n",
      "5   16.0   (8.25, inf]\n",
      "6    NaN           NaN\n"
     ]
    }
   ],
   "source": [
    "import pandas as pd\n",
    "import numpy as np\n",
    "\n",
    "# Sample training data\n",
    "train_df = pd.DataFrame({'value': [0, 1, np.nan, 3, 4, 5, 6, 7, np.nan, 9, 10, 11]})\n",
    "# New data\n",
    "new_df = pd.DataFrame({'value': [-1, 1, 5, 8, 12, 16, np.nan]})\n",
    "\n",
    "# Define the number of bins (n) and labels\n",
    "n = 4\n",
    "\n",
    "# FIT: Create equal-width bins for training data, get bin_edges and labels to apply to new data\n",
    "train_bins, bin_edges = pd.cut(train_df['value'], bins=n, retbins=True)\n",
    "train_df['bin'] = train_bins\n",
    "bin_edges[0] = -np.inf\n",
    "bin_edges[-1] = np.inf\n",
    "\n",
    "label_type = 'string' # number\n",
    "if label_type == 'string':\n",
    "    bin_labels = create_labels(bin_edges)\n",
    "    print(bin_labels)\n",
    "elif label_type == 'number':\n",
    "    bin_labels = [i for i in range(n)]\n",
    "\n",
    "# TRANSFORM: Apply the same binning scheme to the new data using the bin edges from training\n",
    "new_bins = pd.cut(new_df['value'], bins=bin_edges, labels=bin_labels)\n",
    "new_df['bin'] = new_bins\n",
    "\n",
    "# Print the new DataFrame with bins\n",
    "print(\"\\nNew Data:\")\n",
    "print(new_df)\n"
   ]
  },
  {
   "cell_type": "markdown",
   "metadata": {},
   "source": [
    "#### `kBinDiscretizer` approach\n",
    "\n",
    "One issue here is that `KBinsDiscretizer` does not accept missing values encoded as NaN natively. One simple solution is to mask the missing values before transformation and add them back afterwards, like shown below. "
   ]
  },
  {
   "cell_type": "code",
   "execution_count": 8,
   "metadata": {},
   "outputs": [
    {
     "name": "stdout",
     "output_type": "stream",
     "text": [
      "\n",
      "New Data:\n",
      "   value  binned_value\n",
      "0   -1.0           0.0\n",
      "1    1.0           0.0\n",
      "2    5.0           1.0\n",
      "3    8.0           2.0\n",
      "4   12.0           3.0\n",
      "5   16.0           3.0\n",
      "6    NaN           NaN\n"
     ]
    }
   ],
   "source": [
    "from sklearn.preprocessing import KBinsDiscretizer\n",
    "import numpy as np\n",
    "import pandas as pd\n",
    "\n",
    "# Sample training data\n",
    "train_df = pd.DataFrame({'value': [0, 1, np.nan, 3, 4, 5, 6, 7, np.nan, 9, 10, 11]})\n",
    "                        \n",
    "# New data\n",
    "new_df = pd.DataFrame({'value': [-1, 1, 5, 8, 12, 16, np.nan]})\n",
    "\n",
    "# Create a mask for missing values in both training and new data\n",
    "train_mask = train_df['value'].isna()\n",
    "new_mask = new_df['value'].isna()\n",
    "\n",
    "# Apply KBinsDiscretizer to masked data\n",
    "kbins = KBinsDiscretizer(n_bins=4, encode='ordinal', strategy='uniform')\n",
    "\n",
    "# Fit and transform the training data (excluding missing values)\n",
    "binned_values_train = kbins.fit_transform(train_df.loc[~train_mask, ['value']])\n",
    "train_df.loc[~train_mask, 'binned_value'] = binned_values_train\n",
    "\n",
    "# Transform the new data (excluding missing values) using the same transformer\n",
    "binned_values_new = kbins.transform(new_df.loc[~new_mask, ['value']])\n",
    "new_df.loc[~new_mask, 'binned_value'] = binned_values_new\n",
    "\n",
    "# The transformed data with numeric bin labels, and missing values are represented as NaN\n",
    "print(\"\\nNew Data:\")\n",
    "print(new_df)\n"
   ]
  },
  {
   "cell_type": "code",
   "execution_count": 10,
   "metadata": {},
   "outputs": [
    {
     "name": "stdout",
     "output_type": "stream",
     "text": [
      "2000    False\n",
      "2001    False\n",
      "2002     True\n",
      "2003    False\n",
      "2004    False\n",
      "2005    False\n",
      "2006    False\n",
      "2007    False\n",
      "2008     True\n",
      "2009    False\n",
      "2010    False\n",
      "2011    False\n",
      "Name: value, dtype: bool\n"
     ]
    }
   ],
   "source": [
    "train_df = pd.DataFrame({'value': [0, 1, np.nan, 3, 4, 5, 6, 7, np.nan, 9, 10, 11]})\n",
    "train_df.index = range(2000, 2000+train_df.shape[0])\n",
    "\n",
    "train_mask = train_df['value'].isna()\n",
    "print(train_mask)"
   ]
  },
  {
   "cell_type": "code",
   "execution_count": null,
   "metadata": {},
   "outputs": [],
   "source": []
  },
  {
   "cell_type": "markdown",
   "metadata": {},
   "source": [
    "Some more work needs to be done to get the treshold label if that's desired. we can get the bin_edges from kbins to create threshold like we had from pd.cut but one issue is the lower end is 0, rather than -inf as we had from pd.cut, similarly the higher end is shown to be 11, but should be inf as we had from pd.cut. "
   ]
  },
  {
   "cell_type": "code",
   "execution_count": null,
   "metadata": {},
   "outputs": [
    {
     "data": {
      "text/plain": [
       "array([-inf, 2.75, 5.5 , 8.25,  inf])"
      ]
     },
     "execution_count": 72,
     "metadata": {},
     "output_type": "execute_result"
    }
   ],
   "source": [
    "kbins.bin_edges_[0]"
   ]
  },
  {
   "cell_type": "code",
   "execution_count": null,
   "metadata": {},
   "outputs": [],
   "source": [
    "# the above issues can be addressed easily\n",
    "kbins.bin_edges_[0][0] = -np.inf\n",
    "kbins.bin_edges_[0][-1] = np.inf\n",
    "kbins.bin_edges_[0]"
   ]
  },
  {
   "cell_type": "code",
   "execution_count": null,
   "metadata": {},
   "outputs": [
    {
     "name": "stdout",
     "output_type": "stream",
     "text": [
      "['[-inf, 2.75]', '(2.75, 5.5]', '(5.5, 8.25]', '(8.25, inf]']\n"
     ]
    }
   ],
   "source": [
    "# these labels then can easily be mapped to the numeric values created above\n",
    "labels = create_labels(kbins.bin_edges_[0])\n",
    "print(labels)"
   ]
  }
 ],
 "metadata": {
  "kernelspec": {
   "display_name": "py38-modelling",
   "language": "python",
   "name": "python3"
  },
  "language_info": {
   "codemirror_mode": {
    "name": "ipython",
    "version": 3
   },
   "file_extension": ".py",
   "mimetype": "text/x-python",
   "name": "python",
   "nbconvert_exporter": "python",
   "pygments_lexer": "ipython3",
   "version": "3.8.15"
  },
  "orig_nbformat": 4
 },
 "nbformat": 4,
 "nbformat_minor": 2
}
