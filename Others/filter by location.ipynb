{
 "cells": [
  {
   "cell_type": "markdown",
   "metadata": {},
   "source": [
    "## Filter by location\n",
    "\n",
    "The index is convenient in many ways. Say I can easily filter the target `y` and train_features `X` if I make sure the index is properly matched. "
   ]
  },
  {
   "cell_type": "code",
   "execution_count": null,
   "metadata": {},
   "outputs": [],
   "source": [
    "# create one pandas df and one series, note that the index is assigned automatically ranging from 0 to 4\n",
    "# or in many real-world cases, X and y would've come from a same df so sharing the index \n",
    "X = pd.DataFrame(range(1,6,1), columns=['value'])\n",
    "y = pd.Series(range(6,11,1))\n",
    "\n",
    "print(\"X:\", X)\n",
    "print(\"y:\", y)\n",
    "# natually we can filter X like below\n",
    "filtered_x = X[X['value']>3]\n",
    "print(filtered_x)\n",
    "# due to the shared index, we can filter y just the same 😎\n",
    "filtered_y = y[X['value']>3]\n",
    "print(filtered_y)\n"
   ]
  },
  {
   "cell_type": "markdown",
   "metadata": {},
   "source": [
    "## Filter by location: `iloc[]`\n",
    "The example below identify the location of infinite values in a df, and filter X and y accordingly. "
   ]
  },
  {
   "cell_type": "code",
   "execution_count": null,
   "metadata": {},
   "outputs": [],
   "source": [
    "import numpy as np\n",
    "# Create a dummy DataFrame with infinite values\n",
    "df = pd.DataFrame({'col1': [np.nan, 2, np.inf, 4, 8], \n",
    "                   'col2': [6, 7, 8, np.inf, np.nan], 'target': [0,1,0,1,0]})\n",
    "print(df)\n",
    "# like many real-world data, this df have a specified index so probably easier to use iloc to identify records\n",
    "df.index = list(range(1999, # start\n",
    "                      1999 + df.shape[0], # end\n",
    "                      1 # step\n",
    "                      ))\n",
    "\n",
    "X = df.drop('target', axis = 1)\n",
    "y = df['target']\n",
    "\n",
    "# find the coordinates (row, col) with infinite values \n",
    "infinite_indices = np.where(np.isinf(X))\n",
    "print('rows location index with infinit values:', infinite_indices[0])\n",
    "print('location index of infinite values (row, col)')\n",
    "print([f'({row}, {col})' for row, col in zip(infinite_indices[0], infinite_indices[1])])\n",
    "\n",
    "# get the location list of all the records/rows\n",
    "all = list(range(df.shape[0]))\n",
    "# use set to exclude those with infinite values, don't forget to turn it back to a list\n",
    "rows_without_infinit_values = list(set(all) - set(list(infinite_indices[0])))\n",
    "# the very cool thing is we can easily filter for both X and y this way so they are still neatly matched\n",
    "X2 = X.iloc[rows_without_infinit_values]\n",
    "y2 = y.iloc[rows_without_infinit_values]"
   ]
  },
  {
   "cell_type": "markdown",
   "metadata": {},
   "source": [
    "Alternatively we can get row and col indices respectively from `np.where()`. The row and col are very helpful for filtering. However if we want to manipulate or treat the specific value of interests (say replace with certain value) then the combined row-col-index is more useful. "
   ]
  },
  {
   "cell_type": "code",
   "execution_count": null,
   "metadata": {},
   "outputs": [],
   "source": [
    "# row and col index directly\n",
    "row_index, col_index = np.where(df.isna())\n",
    "print('null value row location index', row_index)\n",
    "print('null value col location index', col_index)"
   ]
  },
  {
   "cell_type": "markdown",
   "metadata": {},
   "source": [
    "### A note of causion\n",
    "To ensure the index array works as expected, it is always prudent to do a quick test on a simple dummy dataset first. Because the indices produced are tuple of arrays representing row and column indices, and may not match the dimensions and alignment of the dataframe of interest. For example, if we use the index to replace values, we are in for a surprise! "
   ]
  },
  {
   "cell_type": "code",
   "execution_count": null,
   "metadata": {},
   "outputs": [],
   "source": [
    "# recall this is what the original df looks like\n",
    "print(df)\n",
    "# null_index through `np.where` and `isna()`\n",
    "null_index = np.where(df.isna())\n",
    "print(df.iloc[null_index])\n",
    "# similarly print out indices with infinite values\n",
    "infinite_indices = np.where(np.isinf(df))\n",
    "print(df.iloc[infinite_indices])\n",
    "# try use the index in `iloc[]` to locate value of interests and replace/label them\n",
    "# we notice the iloc methods affected both the cols and rows involved\n",
    "# whereas the replace is more precise in identifying the exact location of interests\n",
    "df.iloc[null_index] = 'missing'\n",
    "df.replace([-np.inf, np.inf], 'infinite', inplace = True)\n",
    "print(df)"
   ]
  }
 ],
 "metadata": {
  "language_info": {
   "name": "python"
  },
  "orig_nbformat": 4
 },
 "nbformat": 4,
 "nbformat_minor": 2
}
