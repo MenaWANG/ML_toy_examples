{
 "cells": [
  {
   "cell_type": "code",
   "execution_count": 31,
   "metadata": {},
   "outputs": [],
   "source": [
    "import pandas as pd\n",
    "import numpy as np\n",
    "import random"
   ]
  },
  {
   "cell_type": "markdown",
   "metadata": {},
   "source": [
    "## Filter by Row Index\n",
    "\n",
    "The index is convenient in many ways. Say I can easily filter the target `y` and train_features `X` if I make sure the index is properly matched. (Comment out the code `y.index = X.index` to check the impact)"
   ]
  },
  {
   "cell_type": "code",
   "execution_count": 32,
   "metadata": {},
   "outputs": [
    {
     "name": "stdout",
     "output_type": "stream",
     "text": [
      "X:\n",
      "       value\n",
      "1000      0\n",
      "1001      1\n",
      "1002      2\n",
      "1003      3\n",
      "1004      4\n",
      "\n",
      "filtered y\n",
      " 1003    1\n",
      "1004    0\n",
      "dtype: int64\n"
     ]
    }
   ],
   "source": [
    "# in real-world scenario, X and y would've come from the same df so sharing the index \n",
    "X = pd.DataFrame(range(0,5,1), columns=['value'])\n",
    "y = pd.Series([random.randint(0, 1) for _ in range(X.shape[0])])\n",
    "X.index = range(1000, 1000+X.shape[0])\n",
    "y.index = X.index # comment this out to break the code\n",
    "\n",
    "print(\"X:\\n\", X)\n",
    "# natually we can filter X like below\n",
    "filtered_X= X[X['value']>2]\n",
    "# due to the shared index, we can filter y just the same 😎\n",
    "filtered_y = y[X['value']>2]\n",
    "# check filter results\n",
    "print('\\nfiltered y\\n', filtered_y)"
   ]
  },
  {
   "cell_type": "markdown",
   "metadata": {},
   "source": [
    "## Filter by location: `iloc[]`\n",
    "The example below identify the location of infinite values in a df, and filter X and y accordingly. (See how to achieve the same task using row index, pls see the `Location vs Row Index` section below)"
   ]
  },
  {
   "cell_type": "code",
   "execution_count": 33,
   "metadata": {},
   "outputs": [
    {
     "name": "stdout",
     "output_type": "stream",
     "text": [
      "   col1  col2  target\n",
      "0   NaN   6.0       0\n",
      "1   2.0   7.0       1\n",
      "2   inf   8.0       0\n",
      "3   4.0   inf       1\n",
      "4   8.0   NaN       0\n",
      "rows location index with infinit values: [2 3]\n",
      "location index of infinite values (row, col)\n",
      "['(2, 0)', '(3, 1)']\n"
     ]
    }
   ],
   "source": [
    "import numpy as np\n",
    "# Create a dummy DataFrame with infinite values\n",
    "df = pd.DataFrame({'col1': [np.nan, 2, np.inf, 4, 8], \n",
    "                   'col2': [6, 7, 8, np.inf, np.nan], 'target': [0,1,0,1,0]})\n",
    "print(df)\n",
    "# like many real-world data, this df have a specified index so probably easier to use iloc to identify records\n",
    "df.index = list(range(1999, # start\n",
    "                      1999 + df.shape[0], # end\n",
    "                      1 # step\n",
    "                      ))\n",
    "\n",
    "X = df.drop('target', axis = 1)\n",
    "y = df['target']\n",
    "\n",
    "# find the coordinates (row, col) with infinite values \n",
    "infinite_indices = np.where(np.isinf(X))\n",
    "print('rows location index with infinit values:', infinite_indices[0])\n",
    "print('location index of infinite values (row, col)')\n",
    "print([f'({row}, {col})' for row, col in zip(infinite_indices[0], infinite_indices[1])])\n",
    "\n",
    "# get the location list of all the records/rows\n",
    "all = list(range(df.shape[0]))\n",
    "# use set to exclude those with infinite values, don't forget to turn it back to a list\n",
    "rows_without_infinit_values = list(set(all) - set(list(infinite_indices[0])))\n",
    "# the very cool thing is we can easily filter for both X and y this way so they are still neatly matched\n",
    "X2 = X.iloc[rows_without_infinit_values]\n",
    "y2 = y.iloc[rows_without_infinit_values]"
   ]
  },
  {
   "cell_type": "markdown",
   "metadata": {},
   "source": [
    "Alternatively we can get row and col indices respectively from `np.where()`. The row and col are very helpful for filtering. However if we want to manipulate or treat the specific value of interests (say replace with certain value) then the combined row-col-index is more useful. "
   ]
  },
  {
   "cell_type": "code",
   "execution_count": 34,
   "metadata": {},
   "outputs": [
    {
     "name": "stdout",
     "output_type": "stream",
     "text": [
      "null value row location index [0 4]\n",
      "null value col location index [0 1]\n"
     ]
    }
   ],
   "source": [
    "# row and col index directly\n",
    "row_index, col_index = np.where(df.isna())\n",
    "print('null value row location index', row_index)\n",
    "print('null value col location index', col_index)"
   ]
  },
  {
   "cell_type": "markdown",
   "metadata": {},
   "source": [
    "### A note of causion\n",
    "To ensure the index array works as expected, it is always prudent to do a quick test on a simple dummy dataset first. Because the indices produced are tuple of arrays representing row and column indices, and may not match the dimensions and alignment of the dataframe of interest. For example, if we use the index to replace values, we are in for a surprise! "
   ]
  },
  {
   "cell_type": "code",
   "execution_count": 35,
   "metadata": {},
   "outputs": [
    {
     "name": "stdout",
     "output_type": "stream",
     "text": [
      "      col1  col2  target\n",
      "1999   NaN   6.0       0\n",
      "2000   2.0   7.0       1\n",
      "2001   inf   8.0       0\n",
      "2002   4.0   inf       1\n",
      "2003   8.0   NaN       0\n",
      "      col1  col2\n",
      "1999   NaN   6.0\n",
      "2003   8.0   NaN\n",
      "      col1  col2\n",
      "2001   inf   8.0\n",
      "2002   4.0   inf\n",
      "          col1      col2  target\n",
      "1999   missing   missing       0\n",
      "2000       2.0       7.0       1\n",
      "2001  infinite       8.0       0\n",
      "2002       4.0  infinite       1\n",
      "2003   missing   missing       0\n"
     ]
    }
   ],
   "source": [
    "# recall this is what the original df looks like\n",
    "print(df)\n",
    "# null_index through `np.where` and `isna()`\n",
    "null_index = np.where(df.isna())\n",
    "print(df.iloc[null_index])\n",
    "# similarly print out indices with infinite values\n",
    "infinite_indices = np.where(np.isinf(df))\n",
    "print(df.iloc[infinite_indices])\n",
    "# try use the index in `iloc[]` to locate value of interests and replace/label them\n",
    "# we notice the iloc methods affected both the cols and rows involved\n",
    "# whereas the replace is more precise in identifying the exact location of interests\n",
    "df.iloc[null_index] = 'missing'\n",
    "df.replace([-np.inf, np.inf], 'infinite', inplace = True)\n",
    "print(df)"
   ]
  },
  {
   "cell_type": "markdown",
   "metadata": {},
   "source": [
    "## Location vs Row Index\n",
    "\n",
    "As we see above, the indices returned from `np.wehre` gives us location index. If we want to get the index label, pls see below. "
   ]
  },
  {
   "cell_type": "code",
   "execution_count": 36,
   "metadata": {},
   "outputs": [
    {
     "name": "stdout",
     "output_type": "stream",
     "text": [
      "null_indices (array([0, 4], dtype=int64), array([0, 1], dtype=int64))\n",
      "null_mask        col1   col2  target\n",
      "1000   True  False   False\n",
      "1001  False  False   False\n",
      "1002  False  False   False\n",
      "1003  False  False   False\n",
      "1004  False   True   False\n"
     ]
    }
   ],
   "source": [
    "df = pd.DataFrame({'col1': [np.nan, 2, np.inf, 4, 8], \n",
    "                   'col2': [6, 7, 8, np.inf, np.nan], 'target': [0,1,0,1,0]})  \n",
    "df.index = range(1000, 1000+df.shape[0])                 \n",
    "null_indices = np.where(df.isna())\n",
    "null_mask = df.isna()\n",
    "print('null_indices', null_indices)\n",
    "print('null_mask', null_mask)"
   ]
  },
  {
   "cell_type": "code",
   "execution_count": 37,
   "metadata": {},
   "outputs": [
    {
     "name": "stdout",
     "output_type": "stream",
     "text": [
      "       col1   col2  target\n",
      "1000  False  False   False\n",
      "1001  False  False   False\n",
      "1002   True  False   False\n",
      "1003  False   True   False\n",
      "1004  False  False   False\n"
     ]
    }
   ],
   "source": [
    "infinity_mask = (df==np.inf)\n",
    "print(infinity_mask)"
   ]
  },
  {
   "cell_type": "code",
   "execution_count": 38,
   "metadata": {},
   "outputs": [
    {
     "data": {
      "text/plain": [
       "Int64Index([1000, 1001, 1004], dtype='int64')"
      ]
     },
     "execution_count": 38,
     "metadata": {},
     "output_type": "execute_result"
    }
   ],
   "source": [
    "#easy to filter out all rows with infinite values in any cols\n",
    "filtered_df = df[~infinity_mask.any(axis=1)]\n",
    "filtered_df.index\n"
   ]
  },
  {
   "cell_type": "markdown",
   "metadata": {},
   "source": [
    "#### Row Index + Col Index\n",
    "\n",
    "One great advantage of Row Index (vs location) is we can easily use it in combination with column index (which is just the column names) using `loc[]`, pls see below."
   ]
  },
  {
   "cell_type": "code",
   "execution_count": 39,
   "metadata": {},
   "outputs": [
    {
     "name": "stdout",
     "output_type": "stream",
     "text": [
      "col1_infinity_mask 1000    False\n",
      "1001    False\n",
      "1002     True\n",
      "1003    False\n",
      "1004    False\n",
      "Name: col1, dtype: bool\n"
     ]
    },
    {
     "data": {
      "text/plain": [
       "1002    8.0\n",
       "Name: col2, dtype: float64"
      ]
     },
     "execution_count": 39,
     "metadata": {},
     "output_type": "execute_result"
    }
   ],
   "source": [
    "col1_infinity_mask = (df['col1']==np.inf)\n",
    "print('col1_infinity_mask', col1_infinity_mask)\n",
    "# now identify the value of col2 when col1 is of infinite value\n",
    "df.loc[col1_infinity_mask, 'col2']"
   ]
  },
  {
   "cell_type": "code",
   "execution_count": 40,
   "metadata": {},
   "outputs": [
    {
     "name": "stdout",
     "output_type": "stream",
     "text": [
      "      col1           col2  target\n",
      "1000   NaN            6.0       0\n",
      "1001   2.0            7.0       1\n",
      "1002   inf  infinity col1       0\n",
      "1003   4.0            inf       1\n",
      "1004   8.0            NaN       0\n"
     ]
    }
   ],
   "source": [
    "# of cours we can also assign value to col2 based on col1 mask, again using `loc`\n",
    "df.loc[col1_infinity_mask, 'col2'] = 'infinity col1'\n",
    "print(df)"
   ]
  }
 ],
 "metadata": {
  "kernelspec": {
   "display_name": "py38-modelling",
   "language": "python",
   "name": "python3"
  },
  "language_info": {
   "codemirror_mode": {
    "name": "ipython",
    "version": 3
   },
   "file_extension": ".py",
   "mimetype": "text/x-python",
   "name": "python",
   "nbconvert_exporter": "python",
   "pygments_lexer": "ipython3",
   "version": "3.8.15"
  },
  "orig_nbformat": 4
 },
 "nbformat": 4,
 "nbformat_minor": 2
}
