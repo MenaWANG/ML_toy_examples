{
 "cells": [
  {
   "cell_type": "code",
   "execution_count": 43,
   "metadata": {},
   "outputs": [],
   "source": [
    "import pandas as pd\n",
    "from sklearn.model_selection import GroupKFold, StratifiedKFold\n",
    "from sklearn.metrics import roc_auc_score"
   ]
  },
  {
   "cell_type": "markdown",
   "metadata": {},
   "source": [
    "Quickly test two KFold methods offered in SKlearn. \n",
    "\n",
    "* `StratifiedKFold`: make sure in each split, the train and test set each has the same distrution in terms of the target.  \n",
    "* `GroupKFold`: make sure the grouped data points and kept together. "
   ]
  },
  {
   "cell_type": "code",
   "execution_count": 49,
   "metadata": {},
   "outputs": [],
   "source": [
    "df = pd.DataFrame({\n",
    "    \"group\": ['x','x','x','y','y','y','y','z','z'],\n",
    "    \"category\": ['a','a','a','a','a','b','b','b','b'],\n",
    "    \"Prob\": [0.1, 0.3, 0.5, 0.7, 0.9, 0.2, 0.4, 0.3, 0.2],\n",
    "    \"target\": [0, 0, 0, 1, 0, 1, 0, 0, 1]\n",
    "    })\n",
    "X = df.drop('target', axis=1)\n",
    "y = df['target']"
   ]
  },
  {
   "cell_type": "markdown",
   "metadata": {},
   "source": [
    "## StratifiedKFold\n",
    "\n",
    "Maintain the distribution of the target."
   ]
  },
  {
   "cell_type": "code",
   "execution_count": 50,
   "metadata": {},
   "outputs": [
    {
     "name": "stdout",
     "output_type": "stream",
     "text": [
      "fold 1:\n",
      "train target [0, 1, 0, 1, 0, 0]\n",
      "test target [0, 0, 1]\n",
      "fold 2:\n",
      "train target [0, 0, 0, 1, 0, 1]\n",
      "test target [1, 0, 0]\n",
      "fold 3:\n",
      "train target [0, 0, 1, 0, 0, 1]\n",
      "test target [0, 1, 0]\n"
     ]
    }
   ],
   "source": [
    "skf = StratifiedKFold(n_splits = 3, shuffle = True, random_state = 42)\n",
    "\n",
    "for i, (train_index, test_index) in enumerate(skf.split(X, y)):\n",
    "    X_train, y_train = X.iloc[train_index], y.iloc[train_index]\n",
    "    X_test, y_test = X.iloc[test_index], y.iloc[test_index]\n",
    "\n",
    "    print(f\"fold {i+1}:\")\n",
    "    print(\"train target\", y_train.tolist())\n",
    "    print(\"test target\", y_test.tolist()) "
   ]
  },
  {
   "cell_type": "markdown",
   "metadata": {},
   "source": [
    "## GroupKFold\n",
    "\n",
    "Keep group members unseparated which is useful in quite some scenarios. For example,\n",
    "\n",
    "- **Preserving Temporal Order**: In time series data, the order of observations often carries valuable information. For example, in financial data, stock prices today are influenced by stock prices from previous days. GroupKFold ensures that each fold respects the temporal order by grouping consecutive time periods (e.g., days, weeks, months) together in the same fold.\n",
    "- **Preventing Data Leakage** : When performing cross-validation on time series data, it's crucial to avoid data leakage. Data leakage occurs when information from the future (in the test set) influences the past (in the training set), leading to overly optimistic performance estimates. GroupKFold helps prevent data leakage by maintaining the integrity of time-based groups.\n",
    "- **Panel Data**: Panel data, also known as longitudinal data, involves repeated observations over multiple time periods for multiple entities (e.g., individuals, companies). GroupKFold can help ensure that observations from the same entity are grouped together in the same fold, which can be important when evaluating models on this type of data.\n",
    "(credit: ChatGPT)"
   ]
  },
  {
   "cell_type": "code",
   "execution_count": 54,
   "metadata": {},
   "outputs": [
    {
     "name": "stdout",
     "output_type": "stream",
     "text": [
      "fold 1:\n",
      "train group ['x', 'x', 'x', 'z', 'z']\n",
      "test group ['y', 'y', 'y', 'y']\n",
      "fold 2:\n",
      "train group ['y', 'y', 'y', 'y', 'z', 'z']\n",
      "test group ['x', 'x', 'x']\n",
      "fold 3:\n",
      "train group ['x', 'x', 'x', 'y', 'y', 'y', 'y']\n",
      "test group ['z', 'z']\n"
     ]
    }
   ],
   "source": [
    "gkf = GroupKFold(n_splits = 3)\n",
    "groups = df['group'].copy()\n",
    "\n",
    "for i, (train_index, test_index) in enumerate(gkf.split(X, y, groups = groups)):\n",
    "    X_train, y_train = X.iloc[train_index], y.iloc[train_index]\n",
    "    X_test, y_test   = X.iloc[test_index], y.iloc[test_index]\n",
    "\n",
    "    print(f\"fold {i+1}:\")\n",
    "    print(\"train group\", X_train['group'].tolist())\n",
    "    print(\"test group\", X_test['group'].tolist()) \n"
   ]
  }
 ],
 "metadata": {
  "kernelspec": {
   "display_name": "my-env",
   "language": "python",
   "name": "my-env"
  },
  "language_info": {
   "codemirror_mode": {
    "name": "ipython",
    "version": 3
   },
   "file_extension": ".py",
   "mimetype": "text/x-python",
   "name": "python",
   "nbconvert_exporter": "python",
   "pygments_lexer": "ipython3",
   "version": "3.8.15"
  },
  "orig_nbformat": 4
 },
 "nbformat": 4,
 "nbformat_minor": 2
}
